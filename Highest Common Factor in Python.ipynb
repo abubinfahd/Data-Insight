{
 "cells": [
  {
   "cell_type": "markdown",
   "id": "29a5976a",
   "metadata": {},
   "source": [
    "# Highest Common Factor in Python"
   ]
  },
  {
   "cell_type": "code",
   "execution_count": 1,
   "id": "e1c47048",
   "metadata": {},
   "outputs": [
    {
     "name": "stdout",
     "output_type": "stream",
     "text": [
      "15\n"
     ]
    }
   ],
   "source": [
    "def hcf(a, b):\n",
    "    if a > b:\n",
    "        smaller = b\n",
    "    else:\n",
    "        smaller = a\n",
    "\n",
    "    for i in range(1, smaller+1):\n",
    "        if a % i == 0 and b % i == 0:\n",
    "            ans = i\n",
    "    print(ans)\n",
    "\n",
    "hcf(30, 15)"
   ]
  },
  {
   "cell_type": "code",
   "execution_count": 2,
   "id": "d5239bb0",
   "metadata": {},
   "outputs": [
    {
     "data": {
      "text/plain": [
       "'C:\\\\Users\\\\Abu Bin Fahd\\\\Desktop\\\\Project'"
      ]
     },
     "execution_count": 2,
     "metadata": {},
     "output_type": "execute_result"
    }
   ],
   "source": []
  }
 ],
 "metadata": {
  "kernelspec": {
   "display_name": "Python 3",
   "language": "python",
   "name": "python3"
  },
  "language_info": {
   "codemirror_mode": {
    "name": "ipython",
    "version": 3
   },
   "file_extension": ".py",
   "mimetype": "text/x-python",
   "name": "python",
   "nbconvert_exporter": "python",
   "pygments_lexer": "ipython3",
   "version": "3.8.8"
  }
 },
 "nbformat": 4,
 "nbformat_minor": 5
}
