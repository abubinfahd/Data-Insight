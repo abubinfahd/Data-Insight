{
 "cells": [
  {
   "cell_type": "markdown",
   "id": "4f25ba85",
   "metadata": {},
   "source": [
    "## Password generator with Python"
   ]
  },
  {
   "cell_type": "code",
   "execution_count": null,
   "id": "c3c4d0df",
   "metadata": {},
   "outputs": [],
   "source": [
    "import string\n",
    "import random\n",
    "\n",
    "if __name__ == \"__main__\":\n",
    "    s1 = string.ascii_lowercase\n",
    "    s2 = string.ascii_uppercase\n",
    "    s3 = string.digits\n",
    "    s4 = string.punctuation\n",
    "    #print(s1, s2, s3, s4)\n",
    "    \n",
    "\n",
    "    plen = int(input(\"Enter your password length:\\n\"))\n",
    "    s = []\n",
    "    s.extend(list(s1))\n",
    "    s.extend(list(s2))\n",
    "    s.extend(list(s3))\n",
    "    s.extend(list(s4))\n",
    "    \n",
    "    #print(s)\n",
    "    random.shuffle(s)\n",
    "    #print(s)\n",
    "    print(\"\".join(s[0:plen]))\n",
    "    "
   ]
  }
 ],
 "metadata": {
  "kernelspec": {
   "display_name": "Python 3",
   "language": "python",
   "name": "python3"
  },
  "language_info": {
   "codemirror_mode": {
    "name": "ipython",
    "version": 3
   },
   "file_extension": ".py",
   "mimetype": "text/x-python",
   "name": "python",
   "nbconvert_exporter": "python",
   "pygments_lexer": "ipython3",
   "version": "3.8.8"
  }
 },
 "nbformat": 4,
 "nbformat_minor": 5
}
