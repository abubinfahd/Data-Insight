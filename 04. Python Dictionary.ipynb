{
 "cells": [
  {
   "cell_type": "markdown",
   "id": "98ea8f93",
   "metadata": {},
   "source": [
    "# Python Dictionary"
   ]
  },
  {
   "cell_type": "raw",
   "id": "eca8a733",
   "metadata": {},
   "source": [
    "Like lists, Dictionaries are collections of many values. But in the lists, we have indexes whereas in dictionaries we can use any kind of data type, be it a string or integer or float.\n",
    "The indexes, whatever we use in the dictionary are called keys and the keys with the associated values are called key-value pairs. It's one of the most used data-structure in the world.\n",
    "\n",
    "dict = {}\n",
    "dict = {key : value}\n"
   ]
  },
  {
   "cell_type": "markdown",
   "id": "b828065a",
   "metadata": {},
   "source": [
    "## Create Dictionary"
   ]
  },
  {
   "cell_type": "code",
   "execution_count": 1,
   "id": "3522b802",
   "metadata": {},
   "outputs": [
    {
     "data": {
      "text/plain": [
       "{}"
      ]
     },
     "execution_count": 1,
     "metadata": {},
     "output_type": "execute_result"
    }
   ],
   "source": [
    "# empty dictionary\n",
    "\n",
    "dict1 = dict()\n",
    "dict1"
   ]
  },
  {
   "cell_type": "code",
   "execution_count": 2,
   "id": "7938fd9d",
   "metadata": {},
   "outputs": [
    {
     "data": {
      "text/plain": [
       "{}"
      ]
     },
     "execution_count": 2,
     "metadata": {},
     "output_type": "execute_result"
    }
   ],
   "source": [
    "dict2 = {}\n",
    "dict2"
   ]
  },
  {
   "cell_type": "code",
   "execution_count": 3,
   "id": "4ce3c258",
   "metadata": {},
   "outputs": [
    {
     "data": {
      "text/plain": [
       "{1: 'one', 2: 'two', 3: 'three'}"
      ]
     },
     "execution_count": 3,
     "metadata": {},
     "output_type": "execute_result"
    }
   ],
   "source": [
    "diction = {1:\"one\", 2:\"two\", 3:\"three\"}\n",
    "diction"
   ]
  },
  {
   "cell_type": "code",
   "execution_count": 4,
   "id": "c2ec5d21",
   "metadata": {},
   "outputs": [
    {
     "data": {
      "text/plain": [
       "{1: 'one', 2: 'two', 3: 'three'}"
      ]
     },
     "execution_count": 4,
     "metadata": {},
     "output_type": "execute_result"
    }
   ],
   "source": [
    "diction = dict({1:\"one\", 2:\"two\", 3:\"three\"})\n",
    "diction"
   ]
  },
  {
   "cell_type": "code",
   "execution_count": 5,
   "id": "31f09d68",
   "metadata": {},
   "outputs": [
    {
     "data": {
      "text/plain": [
       "dict_keys([1, 2, 3])"
      ]
     },
     "execution_count": 5,
     "metadata": {},
     "output_type": "execute_result"
    }
   ],
   "source": [
    "# Return Dictionary Keys using keys() method\n",
    "\n",
    "mydict = {1:\"one\", 2:\"two\", 3:\"three\"}\n",
    "mydict.keys()"
   ]
  },
  {
   "cell_type": "code",
   "execution_count": 6,
   "id": "085e65a2",
   "metadata": {},
   "outputs": [
    {
     "data": {
      "text/plain": [
       "dict_values(['one', 'two', 'three'])"
      ]
     },
     "execution_count": 6,
     "metadata": {},
     "output_type": "execute_result"
    }
   ],
   "source": [
    "# Return Dictionary Values using values() method\n",
    "\n",
    "mydict.values()"
   ]
  },
  {
   "cell_type": "markdown",
   "id": "7f0d0bd6",
   "metadata": {},
   "source": [
    "## Accessing Items"
   ]
  },
  {
   "cell_type": "code",
   "execution_count": 7,
   "id": "ad8b53de",
   "metadata": {},
   "outputs": [
    {
     "data": {
      "text/plain": [
       "'two'"
      ]
     },
     "execution_count": 7,
     "metadata": {},
     "output_type": "execute_result"
    }
   ],
   "source": [
    "# Access item using key\n",
    "\n",
    "mydict = {1:\"one\", 2:\"two\", 3:\"three\", 4:\"four\"}\n",
    "mydict[2]"
   ]
  },
  {
   "cell_type": "code",
   "execution_count": 9,
   "id": "75fad78b",
   "metadata": {},
   "outputs": [
    {
     "data": {
      "text/plain": [
       "'three'"
      ]
     },
     "execution_count": 9,
     "metadata": {},
     "output_type": "execute_result"
    }
   ],
   "source": [
    "# Access item using key using get() method\n",
    "\n",
    "mydict.get(3)"
   ]
  },
  {
   "cell_type": "markdown",
   "id": "dab23a79",
   "metadata": {},
   "source": [
    "## Add, Remove and Update items"
   ]
  },
  {
   "cell_type": "markdown",
   "id": "c0f961bc",
   "metadata": {},
   "source": [
    "String type value must be covered by single/double quotation"
   ]
  },
  {
   "cell_type": "code",
   "execution_count": 23,
   "id": "593bc876",
   "metadata": {},
   "outputs": [
    {
     "data": {
      "text/plain": [
       "{'Name': 'Rifat', 'Id': 134670, 'DOB': 1990, 'Address': 'Bangladesh'}"
      ]
     },
     "execution_count": 23,
     "metadata": {},
     "output_type": "execute_result"
    }
   ],
   "source": [
    "mydict = {'Name': \"Rifat\", \"Id\": 134670, \"DOB\": 1990, \"Address\":'Bangladesh'}\n",
    "mydict  \n"
   ]
  },
  {
   "cell_type": "code",
   "execution_count": 24,
   "id": "1f4460fc",
   "metadata": {},
   "outputs": [
    {
     "data": {
      "text/plain": [
       "{'Name': 'Rifat',\n",
       " 'Id': 134670,\n",
       " 'DOB': 1990,\n",
       " 'Address': 'Bangladesh',\n",
       " 'Job': 'Data Scientist'}"
      ]
     },
     "execution_count": 24,
     "metadata": {},
     "output_type": "execute_result"
    }
   ],
   "source": [
    "# Adding Items\n",
    "\n",
    "mydict[\"Job\"] = \"Data Scientist\"\n",
    "mydict"
   ]
  },
  {
   "cell_type": "code",
   "execution_count": 25,
   "id": "eb279223",
   "metadata": {},
   "outputs": [
    {
     "data": {
      "text/plain": [
       "{'Name': 'Rifat',\n",
       " 'Id': 134670,\n",
       " 'DOB': 1991,\n",
       " 'Address': 'Bangladesh',\n",
       " 'Job': 'Data Scientist'}"
      ]
     },
     "execution_count": 25,
     "metadata": {},
     "output_type": "execute_result"
    }
   ],
   "source": [
    "# Update Items\n",
    "\n",
    "mydict[\"DOB\"] = 1991\n",
    "mydict"
   ]
  },
  {
   "cell_type": "code",
   "execution_count": 26,
   "id": "b9cb36b0",
   "metadata": {},
   "outputs": [
    {
     "data": {
      "text/plain": [
       "{'Name': 'Rifat', 'Id': 134670, 'DOB': 1991, 'Address': 'Bangladesh'}"
      ]
     },
     "execution_count": 26,
     "metadata": {},
     "output_type": "execute_result"
    }
   ],
   "source": [
    "# Removing items in the dictionary using Pop method\n",
    "\n",
    "mydict.pop('Job') \n",
    "mydict"
   ]
  },
  {
   "cell_type": "code",
   "execution_count": 27,
   "id": "786feffc",
   "metadata": {},
   "outputs": [
    {
     "data": {
      "text/plain": [
       "{'Name': 'Rifat', 'DOB': 1991, 'Address': 'Bangladesh'}"
      ]
     },
     "execution_count": 27,
     "metadata": {},
     "output_type": "execute_result"
    }
   ],
   "source": [
    "# Removing item using del method\n",
    "\n",
    "del[mydict[\"Id\"]]\n",
    "mydict"
   ]
  },
  {
   "cell_type": "code",
   "execution_count": 28,
   "id": "dc37ef3f",
   "metadata": {},
   "outputs": [
    {
     "data": {
      "text/plain": [
       "{}"
      ]
     },
     "execution_count": 28,
     "metadata": {},
     "output_type": "execute_result"
    }
   ],
   "source": [
    "# Delete all items of the dictionary using clear method\n",
    "\n",
    "mydict.clear()\n",
    "mydict"
   ]
  },
  {
   "cell_type": "markdown",
   "id": "ff94f059",
   "metadata": {},
   "source": [
    "## Dictionary Loop"
   ]
  },
  {
   "cell_type": "code",
   "execution_count": 29,
   "id": "883b37dc",
   "metadata": {},
   "outputs": [
    {
     "name": "stdout",
     "output_type": "stream",
     "text": [
      "Rifat\n",
      "134670\n",
      "1990\n",
      "Bangladesh\n"
     ]
    }
   ],
   "source": [
    "mydict = {'Name': \"Rifat\", \"Id\": 134670, \"DOB\": 1990, \"Address\":'Bangladesh'}\n",
    "for i in mydict:\n",
    "    print(mydict[i])"
   ]
  },
  {
   "cell_type": "markdown",
   "id": "3d6644b4",
   "metadata": {},
   "source": [
    "## Dictionary Comprehension"
   ]
  },
  {
   "cell_type": "code",
   "execution_count": 33,
   "id": "bfef781d",
   "metadata": {},
   "outputs": [
    {
     "data": {
      "text/plain": [
       "{0: 0, 1: 2, 2: 4, 3: 6, 4: 8, 5: 10, 6: 12, 7: 14, 8: 16, 9: 18}"
      ]
     },
     "execution_count": 33,
     "metadata": {},
     "output_type": "execute_result"
    }
   ],
   "source": [
    "square = {i:i*2 for i in range(10)}\n",
    "square"
   ]
  },
  {
   "cell_type": "code",
   "execution_count": 34,
   "id": "3bcb8a11",
   "metadata": {},
   "outputs": [
    {
     "data": {
      "text/plain": [
       "{'Name': 'Rifat', 'Id': 134670, 'DOB': 1990, 'Address': 'Bangladesh'}"
      ]
     },
     "execution_count": 34,
     "metadata": {},
     "output_type": "execute_result"
    }
   ],
   "source": [
    "mydict = {'Name': \"Rifat\", \"Id\": 134670, \"DOB\": 1990, \"Address\":'Bangladesh'}\n",
    "mydict1 = {k:v for (k,v) in mydict.items()}\n",
    "mydict"
   ]
  }
 ],
 "metadata": {
  "kernelspec": {
   "display_name": "Python 3",
   "language": "python",
   "name": "python3"
  },
  "language_info": {
   "codemirror_mode": {
    "name": "ipython",
    "version": 3
   },
   "file_extension": ".py",
   "mimetype": "text/x-python",
   "name": "python",
   "nbconvert_exporter": "python",
   "pygments_lexer": "ipython3",
   "version": "3.8.8"
  }
 },
 "nbformat": 4,
 "nbformat_minor": 5
}
