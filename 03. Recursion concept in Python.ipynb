{
 "cells": [
  {
   "cell_type": "markdown",
   "id": "e4b6ef15",
   "metadata": {},
   "source": [
    "# Recursion: One of the most powerful programing techniques"
   ]
  },
  {
   "cell_type": "code",
   "execution_count": 5,
   "id": "17c7bee8",
   "metadata": {},
   "outputs": [
    {
     "name": "stdout",
     "output_type": "stream",
     "text": [
      "4\n",
      "24\n"
     ]
    }
   ],
   "source": [
    "# Factorial! (Normal function)\n",
    "\n",
    "def factorial(n):\n",
    "    temp = 1\n",
    "    \n",
    "    for i in range(2, n+1):\n",
    "        temp = temp * i\n",
    "    \n",
    "    return temp\n",
    "\n",
    "n = int(input())\n",
    "result = factorial(n)\n",
    "print(result)"
   ]
  },
  {
   "cell_type": "markdown",
   "id": "1e45810d",
   "metadata": {},
   "source": [
    "## Recursion is a function that calls itself."
   ]
  },
  {
   "cell_type": "markdown",
   "id": "7196ef10",
   "metadata": {},
   "source": [
    "It is a widely used idea in programming to solve complex problems by breaking them down into simpler ones. We can think about a big box. For our convenience, we break down the box into sub box. If we need it more simple, we can break it into more sub box. And there is an endpoint. Endpoint means where we want to stop breaking the box. It is called base value/point. In recursion, we have to locate this base value in our programme.\n",
    "\n",
    "4! = 4 x 3 x 2 x 1. Here 1 is the last value where we want to stop. So 1 is the base value.\n",
    "\n",
    "\n",
    "return n * factorial(n -1)\n",
    "\n",
    "    => 4 * factorial(4 -1)\n",
    "\n",
    "    => 4 * factorial(3)\n",
    "\n",
    "Here factorial(3) is a new function that calls itself. And this process is running until then equal to 1.\n",
    "\n",
    "    => 4 * factorial(3)\n",
    "\n",
    "    => 4 * 3 * factorial(3 -1) \"return n * factorial(n -1)\"\n",
    "\n",
    "    => 4 * 3 * factorial(2)\n",
    "\n",
    "    ...continue"
    "\n",
    "Also read my blog for better understanding. Link given in the below."
   ]
  },
  {
   "cell_type": "code",
   "execution_count": 6,
   "id": "2c4a46df",
   "metadata": {},
   "outputs": [
    {
     "name": "stdout",
     "output_type": "stream",
     "text": [
      "4\n",
      "24\n"
     ]
    }
   ],
   "source": [
    "# Factorial! (Recursive function)\n",
    "\n",
    "def factorial(n):\n",
    "    if n == 1:        #base value\n",
    "        return 1\n",
    "    \n",
    "    return n * factorial(n-1)\n",
    "\n",
    "n = int(input())\n",
    "result = factorial(n)\n",
    "print(result)"
   ]
  },
  {
   "cell_type": "markdown",
   "id": "08bb1069",
   "metadata": {},
   "source": [
    "# Another example"
   ]
  },
  {
   "cell_type": "code",
   "execution_count": 9,
   "id": "1117ef45",
   "metadata": {},
   "outputs": [
    {
     "name": "stdout",
     "output_type": "stream",
     "text": [
      "15\n"
     ]
    }
   ],
   "source": [
    "# Sum (Nnormal function)\n",
    "\n",
    "def sum_f(n):\n",
    "    sum = 0\n",
    "    \n",
    "    for i in range(1, n+1):\n",
    "        sum =sum + i\n",
    "        #print(sum)\n",
    "        \n",
    "    return sum\n",
    "\n",
    "print(sum_f(5))"
   ]
  },
  {
   "cell_type": "code",
   "execution_count": 10,
   "id": "e56e6d20",
   "metadata": {},
   "outputs": [
    {
     "name": "stdout",
     "output_type": "stream",
     "text": [
      "15\n"
     ]
    }
   ],
   "source": [
    "# Sum (Recursive function)\n",
    "\n",
    "def sum_f(n):\n",
    "    if n == 0:    #base value\n",
    "        return 0\n",
    "    \n",
    "    return n + sum_f(n-1)\n",
    "\n",
    "print(sum_f(5))"
   ]
  },
  {
   "cell_type": "markdown",
   "id": "66207540",
   "metadata": {},
   "source": [
    "Blog link: https://www.datainsightonline.com/post/recursion-one-of-the-most-powerful-programing-techniques"
   ]
  }
 ],
 "metadata": {
  "kernelspec": {
   "display_name": "Python 3",
   "language": "python",
   "name": "python3"
  },
  "language_info": {
   "codemirror_mode": {
    "name": "ipython",
    "version": 3
   },
   "file_extension": ".py",
   "mimetype": "text/x-python",
   "name": "python",
   "nbconvert_exporter": "python",
   "pygments_lexer": "ipython3",
   "version": "3.8.8"
  }
 },
 "nbformat": 4,
 "nbformat_minor": 5
}
