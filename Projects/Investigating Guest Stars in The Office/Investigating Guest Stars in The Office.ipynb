{
 "cells": [
  {
   "cell_type": "markdown",
   "id": "42b58f3c",
   "metadata": {},
   "source": [
    "# Investigating Guest Stars in The Office"
   ]
  },
  {
   "cell_type": "markdown",
   "id": "03c9479c",
   "metadata": {},
   "source": [
    "![](office.png)"
   ]
  },
  {
   "cell_type": "markdown",
   "id": "90d1e811",
   "metadata": {},
   "source": [
    "## 1. Import Necessary Library"
   ]
  },
  {
   "cell_type": "code",
   "execution_count": 1,
   "id": "208d235b",
   "metadata": {},
   "outputs": [],
   "source": [
    "import numpy as np\n",
    "import pandas as pd\n",
    "import matplotlib.pyplot as plt"
   ]
  },
  {
   "cell_type": "markdown",
   "id": "0d9e2693",
   "metadata": {},
   "source": [
    "## 2. Read the Office Data"
   ]
  },
  {
   "cell_type": "code",
   "execution_count": 2,
   "id": "b267633a",
   "metadata": {},
   "outputs": [
    {
     "data": {
      "text/html": [
       "<div>\n",
       "<style scoped>\n",
       "    .dataframe tbody tr th:only-of-type {\n",
       "        vertical-align: middle;\n",
       "    }\n",
       "\n",
       "    .dataframe tbody tr th {\n",
       "        vertical-align: top;\n",
       "    }\n",
       "\n",
       "    .dataframe thead th {\n",
       "        text-align: right;\n",
       "    }\n",
       "</style>\n",
       "<table border=\"1\" class=\"dataframe\">\n",
       "  <thead>\n",
       "    <tr style=\"text-align: right;\">\n",
       "      <th></th>\n",
       "      <th>Season</th>\n",
       "      <th>EpisodeTitle</th>\n",
       "      <th>About</th>\n",
       "      <th>Ratings</th>\n",
       "      <th>Votes</th>\n",
       "      <th>Viewership</th>\n",
       "      <th>Duration</th>\n",
       "      <th>Date</th>\n",
       "      <th>GuestStars</th>\n",
       "      <th>Director</th>\n",
       "      <th>Writers</th>\n",
       "    </tr>\n",
       "  </thead>\n",
       "  <tbody>\n",
       "    <tr>\n",
       "      <th>0</th>\n",
       "      <td>1</td>\n",
       "      <td>Pilot</td>\n",
       "      <td>The premiere episode introduces the boss and s...</td>\n",
       "      <td>7.5</td>\n",
       "      <td>4936</td>\n",
       "      <td>11.2</td>\n",
       "      <td>23</td>\n",
       "      <td>24 March 2005</td>\n",
       "      <td>NaN</td>\n",
       "      <td>Ken Kwapis</td>\n",
       "      <td>Ricky Gervais |Stephen Merchant and Greg Daniels</td>\n",
       "    </tr>\n",
       "    <tr>\n",
       "      <th>1</th>\n",
       "      <td>1</td>\n",
       "      <td>Diversity Day</td>\n",
       "      <td>Michael's off color remark puts a sensitivity ...</td>\n",
       "      <td>8.3</td>\n",
       "      <td>4801</td>\n",
       "      <td>6.0</td>\n",
       "      <td>23</td>\n",
       "      <td>29 March 2005</td>\n",
       "      <td>NaN</td>\n",
       "      <td>Ken Kwapis</td>\n",
       "      <td>B. J. Novak</td>\n",
       "    </tr>\n",
       "    <tr>\n",
       "      <th>2</th>\n",
       "      <td>1</td>\n",
       "      <td>Health Care</td>\n",
       "      <td>Michael leaves Dwight in charge of picking the...</td>\n",
       "      <td>7.8</td>\n",
       "      <td>4024</td>\n",
       "      <td>5.8</td>\n",
       "      <td>22</td>\n",
       "      <td>5 April 2005</td>\n",
       "      <td>NaN</td>\n",
       "      <td>Ken Whittingham</td>\n",
       "      <td>Paul Lieberstein</td>\n",
       "    </tr>\n",
       "    <tr>\n",
       "      <th>3</th>\n",
       "      <td>1</td>\n",
       "      <td>The Alliance</td>\n",
       "      <td>Just for a laugh, Jim agrees to an alliance wi...</td>\n",
       "      <td>8.1</td>\n",
       "      <td>3915</td>\n",
       "      <td>5.4</td>\n",
       "      <td>23</td>\n",
       "      <td>12 April 2005</td>\n",
       "      <td>NaN</td>\n",
       "      <td>Bryan Gordon</td>\n",
       "      <td>Michael Schur</td>\n",
       "    </tr>\n",
       "    <tr>\n",
       "      <th>4</th>\n",
       "      <td>1</td>\n",
       "      <td>Basketball</td>\n",
       "      <td>Michael and his staff challenge the warehouse ...</td>\n",
       "      <td>8.4</td>\n",
       "      <td>4294</td>\n",
       "      <td>5.0</td>\n",
       "      <td>23</td>\n",
       "      <td>19 April 2005</td>\n",
       "      <td>NaN</td>\n",
       "      <td>Greg Daniels</td>\n",
       "      <td>Greg Daniels</td>\n",
       "    </tr>\n",
       "  </tbody>\n",
       "</table>\n",
       "</div>"
      ],
      "text/plain": [
       "   Season   EpisodeTitle                                              About  \\\n",
       "0       1          Pilot  The premiere episode introduces the boss and s...   \n",
       "1       1  Diversity Day  Michael's off color remark puts a sensitivity ...   \n",
       "2       1    Health Care  Michael leaves Dwight in charge of picking the...   \n",
       "3       1   The Alliance  Just for a laugh, Jim agrees to an alliance wi...   \n",
       "4       1     Basketball  Michael and his staff challenge the warehouse ...   \n",
       "\n",
       "   Ratings  Votes  Viewership  Duration            Date GuestStars  \\\n",
       "0      7.5   4936        11.2        23   24 March 2005        NaN   \n",
       "1      8.3   4801         6.0        23   29 March 2005        NaN   \n",
       "2      7.8   4024         5.8        22    5 April 2005        NaN   \n",
       "3      8.1   3915         5.4        23   12 April 2005        NaN   \n",
       "4      8.4   4294         5.0        23   19 April 2005        NaN   \n",
       "\n",
       "          Director                                           Writers  \n",
       "0       Ken Kwapis  Ricky Gervais |Stephen Merchant and Greg Daniels  \n",
       "1       Ken Kwapis                                       B. J. Novak  \n",
       "2  Ken Whittingham                                  Paul Lieberstein  \n",
       "3     Bryan Gordon                                     Michael Schur  \n",
       "4     Greg Daniels                                      Greg Daniels  "
      ]
     },
     "execution_count": 2,
     "metadata": {},
     "output_type": "execute_result"
    }
   ],
   "source": [
    "office_data = pd.read_csv(\"the_office_series.csv\", index_col=0)\n",
    "office_data.head()"
   ]
  },
  {
   "cell_type": "markdown",
   "id": "f7c9cadc",
   "metadata": {},
   "source": [
    "## 3. At a glance"
   ]
  },
  {
   "cell_type": "code",
   "execution_count": 3,
   "id": "fd61ec16",
   "metadata": {},
   "outputs": [
    {
     "data": {
      "text/plain": [
       "(188, 11)"
      ]
     },
     "execution_count": 3,
     "metadata": {},
     "output_type": "execute_result"
    }
   ],
   "source": [
    "office_data.shape"
   ]
  },
  {
   "cell_type": "code",
   "execution_count": 4,
   "id": "8e64d74d",
   "metadata": {},
   "outputs": [
    {
     "name": "stdout",
     "output_type": "stream",
     "text": [
      "<class 'pandas.core.frame.DataFrame'>\n",
      "Int64Index: 188 entries, 0 to 187\n",
      "Data columns (total 11 columns):\n",
      " #   Column        Non-Null Count  Dtype  \n",
      "---  ------        --------------  -----  \n",
      " 0   Season        188 non-null    int64  \n",
      " 1   EpisodeTitle  188 non-null    object \n",
      " 2   About         188 non-null    object \n",
      " 3   Ratings       188 non-null    float64\n",
      " 4   Votes         188 non-null    int64  \n",
      " 5   Viewership    188 non-null    float64\n",
      " 6   Duration      188 non-null    int64  \n",
      " 7   Date          188 non-null    object \n",
      " 8   GuestStars    29 non-null     object \n",
      " 9   Director      188 non-null    object \n",
      " 10  Writers       188 non-null    object \n",
      "dtypes: float64(2), int64(3), object(6)\n",
      "memory usage: 17.6+ KB\n"
     ]
    }
   ],
   "source": [
    "office_data.info()"
   ]
  },
  {
   "cell_type": "code",
   "execution_count": 5,
   "id": "b14ced85",
   "metadata": {},
   "outputs": [
    {
     "data": {
      "text/plain": [
       "Index(['Season', 'EpisodeTitle', 'About', 'Ratings', 'Votes', 'Viewership',\n",
       "       'Duration', 'Date', 'GuestStars', 'Director', 'Writers'],\n",
       "      dtype='object')"
      ]
     },
     "execution_count": 5,
     "metadata": {},
     "output_type": "execute_result"
    }
   ],
   "source": [
    "office_data.columns"
   ]
  },
  {
   "cell_type": "markdown",
   "id": "08845b19",
   "metadata": {},
   "source": [
    "## 4. Apply Colors"
   ]
  },
  {
   "cell_type": "code",
   "execution_count": 6,
   "id": "790aa184",
   "metadata": {},
   "outputs": [
    {
     "data": {
      "image/png": "[encoded data removed]",
      "text/plain": [
       "<Figure size 432x288 with 1 Axes>"
      ]
     },
     "metadata": {
      "needs_background": "light"
     },
     "output_type": "display_data"
    }
   ],
   "source": [
    "plt.scatter(office_data[\"Ratings\"], office_data[\"Viewership\"])\n",
    "plt.grid()\n",
    "plt.show()"
   ]
  },
  {
   "cell_type": "markdown",
   "id": "053c8ec5",
   "metadata": {},
   "source": [
    "There is only 10 million+ views with a rating of 7.5. all the rest are (10M view) is 8.0 and above.And only one episod view is 22M+."
   ]
  },
  {
   "cell_type": "code",
   "execution_count": 7,
   "id": "29d481e2",
   "metadata": {},
   "outputs": [
    {
     "data": {
      "text/plain": [
       "[7.8, 8.2, 8.6, 9.8]"
      ]
     },
     "execution_count": 7,
     "metadata": {},
     "output_type": "execute_result"
    }
   ],
   "source": [
    "colors = [\"red\", \"orange\", \"lightgreen\", \"darkgreen\"]\n",
    "\n",
    "ratings = office_data[\"Ratings\"]\n",
    "q1 = ratings.quantile(0.25)\n",
    "q2 = ratings.quantile(0.50)\n",
    "q3 = ratings.quantile(0.75)\n",
    "q4 = ratings.max()\n",
    "\n",
    "quantile_list = [q1, q2, q3, q4]\n",
    "quantile_list"
   ]
  },
  {
   "cell_type": "code",
   "execution_count": 8,
   "id": "9dd0b7c5",
   "metadata": {},
   "outputs": [
    {
     "data": {
      "text/plain": [
       "{7.8: 'red', 8.2: 'orange', 8.6: 'lightgreen', 9.8: 'darkgreen'}"
      ]
     },
     "execution_count": 8,
     "metadata": {},
     "output_type": "execute_result"
    }
   ],
   "source": [
    "ratings_color = {}\n",
    "\n",
    "for i in range(len(quantile_list)):\n",
    "    ratings_color[quantile_list[i]] = colors[i]\n",
    "ratings_color"
   ]
  },
  {
   "cell_type": "markdown",
   "id": "7c7c1c05",
   "metadata": {},
   "source": [
    "That tells us rating under 7.8 is red, between 7.8 & 8.2 is orange, between 8.2 & 8.6 is lightgreen etc."
   ]
  },
  {
   "cell_type": "code",
   "execution_count": 9,
   "id": "6ef7e1c4",
   "metadata": {},
   "outputs": [],
   "source": [
    "def colorize(rating, ratings_color):\n",
    "    for key in ratings_color:\n",
    "        if float(key) >= rating:\n",
    "            return ratings_color[key]"
   ]
  },
  {
   "cell_type": "code",
   "execution_count": 10,
   "id": "3dd3911e",
   "metadata": {},
   "outputs": [
    {
     "data": {
      "text/html": [
       "<div>\n",
       "<style scoped>\n",
       "    .dataframe tbody tr th:only-of-type {\n",
       "        vertical-align: middle;\n",
       "    }\n",
       "\n",
       "    .dataframe tbody tr th {\n",
       "        vertical-align: top;\n",
       "    }\n",
       "\n",
       "    .dataframe thead th {\n",
       "        text-align: right;\n",
       "    }\n",
       "</style>\n",
       "<table border=\"1\" class=\"dataframe\">\n",
       "  <thead>\n",
       "    <tr style=\"text-align: right;\">\n",
       "      <th></th>\n",
       "      <th>Season</th>\n",
       "      <th>EpisodeTitle</th>\n",
       "      <th>About</th>\n",
       "      <th>Ratings</th>\n",
       "      <th>Votes</th>\n",
       "      <th>Viewership</th>\n",
       "      <th>Duration</th>\n",
       "      <th>Date</th>\n",
       "      <th>GuestStars</th>\n",
       "      <th>Director</th>\n",
       "      <th>Writers</th>\n",
       "      <th>Coloring</th>\n",
       "      <th>Episodes</th>\n",
       "    </tr>\n",
       "  </thead>\n",
       "  <tbody>\n",
       "    <tr>\n",
       "      <th>0</th>\n",
       "      <td>1</td>\n",
       "      <td>Pilot</td>\n",
       "      <td>The premiere episode introduces the boss and s...</td>\n",
       "      <td>7.5</td>\n",
       "      <td>4936</td>\n",
       "      <td>11.2</td>\n",
       "      <td>23</td>\n",
       "      <td>24 March 2005</td>\n",
       "      <td>NaN</td>\n",
       "      <td>Ken Kwapis</td>\n",
       "      <td>Ricky Gervais |Stephen Merchant and Greg Daniels</td>\n",
       "      <td>red</td>\n",
       "      <td>1</td>\n",
       "    </tr>\n",
       "    <tr>\n",
       "      <th>1</th>\n",
       "      <td>1</td>\n",
       "      <td>Diversity Day</td>\n",
       "      <td>Michael's off color remark puts a sensitivity ...</td>\n",
       "      <td>8.3</td>\n",
       "      <td>4801</td>\n",
       "      <td>6.0</td>\n",
       "      <td>23</td>\n",
       "      <td>29 March 2005</td>\n",
       "      <td>NaN</td>\n",
       "      <td>Ken Kwapis</td>\n",
       "      <td>B. J. Novak</td>\n",
       "      <td>lightgreen</td>\n",
       "      <td>2</td>\n",
       "    </tr>\n",
       "    <tr>\n",
       "      <th>2</th>\n",
       "      <td>1</td>\n",
       "      <td>Health Care</td>\n",
       "      <td>Michael leaves Dwight in charge of picking the...</td>\n",
       "      <td>7.8</td>\n",
       "      <td>4024</td>\n",
       "      <td>5.8</td>\n",
       "      <td>22</td>\n",
       "      <td>5 April 2005</td>\n",
       "      <td>NaN</td>\n",
       "      <td>Ken Whittingham</td>\n",
       "      <td>Paul Lieberstein</td>\n",
       "      <td>red</td>\n",
       "      <td>3</td>\n",
       "    </tr>\n",
       "    <tr>\n",
       "      <th>3</th>\n",
       "      <td>1</td>\n",
       "      <td>The Alliance</td>\n",
       "      <td>Just for a laugh, Jim agrees to an alliance wi...</td>\n",
       "      <td>8.1</td>\n",
       "      <td>3915</td>\n",
       "      <td>5.4</td>\n",
       "      <td>23</td>\n",
       "      <td>12 April 2005</td>\n",
       "      <td>NaN</td>\n",
       "      <td>Bryan Gordon</td>\n",
       "      <td>Michael Schur</td>\n",
       "      <td>orange</td>\n",
       "      <td>4</td>\n",
       "    </tr>\n",
       "    <tr>\n",
       "      <th>4</th>\n",
       "      <td>1</td>\n",
       "      <td>Basketball</td>\n",
       "      <td>Michael and his staff challenge the warehouse ...</td>\n",
       "      <td>8.4</td>\n",
       "      <td>4294</td>\n",
       "      <td>5.0</td>\n",
       "      <td>23</td>\n",
       "      <td>19 April 2005</td>\n",
       "      <td>NaN</td>\n",
       "      <td>Greg Daniels</td>\n",
       "      <td>Greg Daniels</td>\n",
       "      <td>lightgreen</td>\n",
       "      <td>5</td>\n",
       "    </tr>\n",
       "  </tbody>\n",
       "</table>\n",
       "</div>"
      ],
      "text/plain": [
       "   Season   EpisodeTitle                                              About  \\\n",
       "0       1          Pilot  The premiere episode introduces the boss and s...   \n",
       "1       1  Diversity Day  Michael's off color remark puts a sensitivity ...   \n",
       "2       1    Health Care  Michael leaves Dwight in charge of picking the...   \n",
       "3       1   The Alliance  Just for a laugh, Jim agrees to an alliance wi...   \n",
       "4       1     Basketball  Michael and his staff challenge the warehouse ...   \n",
       "\n",
       "   Ratings  Votes  Viewership  Duration            Date GuestStars  \\\n",
       "0      7.5   4936        11.2        23   24 March 2005        NaN   \n",
       "1      8.3   4801         6.0        23   29 March 2005        NaN   \n",
       "2      7.8   4024         5.8        22    5 April 2005        NaN   \n",
       "3      8.1   3915         5.4        23   12 April 2005        NaN   \n",
       "4      8.4   4294         5.0        23   19 April 2005        NaN   \n",
       "\n",
       "          Director                                           Writers  \\\n",
       "0       Ken Kwapis  Ricky Gervais |Stephen Merchant and Greg Daniels   \n",
       "1       Ken Kwapis                                       B. J. Novak   \n",
       "2  Ken Whittingham                                  Paul Lieberstein   \n",
       "3     Bryan Gordon                                     Michael Schur   \n",
       "4     Greg Daniels                                      Greg Daniels   \n",
       "\n",
       "     Coloring  Episodes  \n",
       "0         red         1  \n",
       "1  lightgreen         2  \n",
       "2         red         3  \n",
       "3      orange         4  \n",
       "4  lightgreen         5  "
      ]
     },
     "execution_count": 10,
     "metadata": {},
     "output_type": "execute_result"
    }
   ],
   "source": [
    "office_data['Coloring'] = office_data['Ratings'].apply(colorize, args = (ratings_color, ))\n",
    "\n",
    "office_data['Episodes'] = np.arange(1, 189)    \n",
    "office_data.head()"
   ]
  },
  {
   "cell_type": "markdown",
   "id": "2956f83f",
   "metadata": {},
   "source": [
    "## 5. Most Viewed Show"
   ]
  },
  {
   "cell_type": "code",
   "execution_count": 11,
   "id": "f42b2028",
   "metadata": {},
   "outputs": [
    {
     "data": {
      "text/plain": [
       "Season                                                          5\n",
       "EpisodeTitle                                        Stress Relief\n",
       "About           Dwight's too-realistic fire alarm gives Stanle...\n",
       "Ratings                                                       9.7\n",
       "Votes                                                        8170\n",
       "Viewership                                                  22.91\n",
       "Duration                                                       60\n",
       "Date                                              1 February 2009\n",
       "GuestStars              Cloris Leachman, Jack Black, Jessica Alba\n",
       "Director                                            Jeffrey Blitz\n",
       "Writers                                          Paul Lieberstein\n",
       "Coloring                                                darkgreen\n",
       "Episodes                                                       78\n",
       "Name: 77, dtype: object"
      ]
     },
     "execution_count": 11,
     "metadata": {},
     "output_type": "execute_result"
    }
   ],
   "source": [
    "max_index = office_data['Viewership'].idxmax()\n",
    "    \n",
    "most_popular = office_data.loc[max_index]\n",
    "most_popular"
   ]
  },
  {
   "cell_type": "markdown",
   "id": "4d2cf93b",
   "metadata": {},
   "source": [
    "The most viewed episode title is Stress Relief. Viewed 22.91M. And the GuestStars are Cloris Leachman, Jack Black, Jessica Alba."
   ]
  },
  {
   "cell_type": "markdown",
   "id": "cb54b2ea",
   "metadata": {},
   "source": [
    "## 6. Creating Two Subsets for Ploting"
   ]
  },
  {
   "cell_type": "code",
   "execution_count": 14,
   "id": "7bf4aa46",
   "metadata": {},
   "outputs": [
    {
     "data": {
      "text/html": [
       "<div>\n",
       "<style scoped>\n",
       "    .dataframe tbody tr th:only-of-type {\n",
       "        vertical-align: middle;\n",
       "    }\n",
       "\n",
       "    .dataframe tbody tr th {\n",
       "        vertical-align: top;\n",
       "    }\n",
       "\n",
       "    .dataframe thead th {\n",
       "        text-align: right;\n",
       "    }\n",
       "</style>\n",
       "<table border=\"1\" class=\"dataframe\">\n",
       "  <thead>\n",
       "    <tr style=\"text-align: right;\">\n",
       "      <th></th>\n",
       "      <th>Season</th>\n",
       "      <th>EpisodeTitle</th>\n",
       "      <th>About</th>\n",
       "      <th>Ratings</th>\n",
       "      <th>Votes</th>\n",
       "      <th>Viewership</th>\n",
       "      <th>Duration</th>\n",
       "      <th>Date</th>\n",
       "      <th>GuestStars</th>\n",
       "      <th>Director</th>\n",
       "      <th>Writers</th>\n",
       "      <th>Coloring</th>\n",
       "      <th>Episodes</th>\n",
       "    </tr>\n",
       "  </thead>\n",
       "  <tbody>\n",
       "    <tr>\n",
       "      <th>0</th>\n",
       "      <td>1</td>\n",
       "      <td>Pilot</td>\n",
       "      <td>The premiere episode introduces the boss and s...</td>\n",
       "      <td>7.5</td>\n",
       "      <td>4936</td>\n",
       "      <td>11.2</td>\n",
       "      <td>23</td>\n",
       "      <td>24 March 2005</td>\n",
       "      <td>NaN</td>\n",
       "      <td>Ken Kwapis</td>\n",
       "      <td>Ricky Gervais |Stephen Merchant and Greg Daniels</td>\n",
       "      <td>red</td>\n",
       "      <td>1</td>\n",
       "    </tr>\n",
       "    <tr>\n",
       "      <th>1</th>\n",
       "      <td>1</td>\n",
       "      <td>Diversity Day</td>\n",
       "      <td>Michael's off color remark puts a sensitivity ...</td>\n",
       "      <td>8.3</td>\n",
       "      <td>4801</td>\n",
       "      <td>6.0</td>\n",
       "      <td>23</td>\n",
       "      <td>29 March 2005</td>\n",
       "      <td>NaN</td>\n",
       "      <td>Ken Kwapis</td>\n",
       "      <td>B. J. Novak</td>\n",
       "      <td>lightgreen</td>\n",
       "      <td>2</td>\n",
       "    </tr>\n",
       "    <tr>\n",
       "      <th>2</th>\n",
       "      <td>1</td>\n",
       "      <td>Health Care</td>\n",
       "      <td>Michael leaves Dwight in charge of picking the...</td>\n",
       "      <td>7.8</td>\n",
       "      <td>4024</td>\n",
       "      <td>5.8</td>\n",
       "      <td>22</td>\n",
       "      <td>5 April 2005</td>\n",
       "      <td>NaN</td>\n",
       "      <td>Ken Whittingham</td>\n",
       "      <td>Paul Lieberstein</td>\n",
       "      <td>red</td>\n",
       "      <td>3</td>\n",
       "    </tr>\n",
       "    <tr>\n",
       "      <th>3</th>\n",
       "      <td>1</td>\n",
       "      <td>The Alliance</td>\n",
       "      <td>Just for a laugh, Jim agrees to an alliance wi...</td>\n",
       "      <td>8.1</td>\n",
       "      <td>3915</td>\n",
       "      <td>5.4</td>\n",
       "      <td>23</td>\n",
       "      <td>12 April 2005</td>\n",
       "      <td>NaN</td>\n",
       "      <td>Bryan Gordon</td>\n",
       "      <td>Michael Schur</td>\n",
       "      <td>orange</td>\n",
       "      <td>4</td>\n",
       "    </tr>\n",
       "    <tr>\n",
       "      <th>4</th>\n",
       "      <td>1</td>\n",
       "      <td>Basketball</td>\n",
       "      <td>Michael and his staff challenge the warehouse ...</td>\n",
       "      <td>8.4</td>\n",
       "      <td>4294</td>\n",
       "      <td>5.0</td>\n",
       "      <td>23</td>\n",
       "      <td>19 April 2005</td>\n",
       "      <td>NaN</td>\n",
       "      <td>Greg Daniels</td>\n",
       "      <td>Greg Daniels</td>\n",
       "      <td>lightgreen</td>\n",
       "      <td>5</td>\n",
       "    </tr>\n",
       "  </tbody>\n",
       "</table>\n",
       "</div>"
      ],
      "text/plain": [
       "   Season   EpisodeTitle                                              About  \\\n",
       "0       1          Pilot  The premiere episode introduces the boss and s...   \n",
       "1       1  Diversity Day  Michael's off color remark puts a sensitivity ...   \n",
       "2       1    Health Care  Michael leaves Dwight in charge of picking the...   \n",
       "3       1   The Alliance  Just for a laugh, Jim agrees to an alliance wi...   \n",
       "4       1     Basketball  Michael and his staff challenge the warehouse ...   \n",
       "\n",
       "   Ratings  Votes  Viewership  Duration            Date GuestStars  \\\n",
       "0      7.5   4936        11.2        23   24 March 2005        NaN   \n",
       "1      8.3   4801         6.0        23   29 March 2005        NaN   \n",
       "2      7.8   4024         5.8        22    5 April 2005        NaN   \n",
       "3      8.1   3915         5.4        23   12 April 2005        NaN   \n",
       "4      8.4   4294         5.0        23   19 April 2005        NaN   \n",
       "\n",
       "          Director                                           Writers  \\\n",
       "0       Ken Kwapis  Ricky Gervais |Stephen Merchant and Greg Daniels   \n",
       "1       Ken Kwapis                                       B. J. Novak   \n",
       "2  Ken Whittingham                                  Paul Lieberstein   \n",
       "3     Bryan Gordon                                     Michael Schur   \n",
       "4     Greg Daniels                                      Greg Daniels   \n",
       "\n",
       "     Coloring  Episodes  \n",
       "0         red         1  \n",
       "1  lightgreen         2  \n",
       "2         red         3  \n",
       "3      orange         4  \n",
       "4  lightgreen         5  "
      ]
     },
     "execution_count": 14,
     "metadata": {},
     "output_type": "execute_result"
    }
   ],
   "source": [
    "# filter data that have NAN value \n",
    "no_starguest_df = office_data[office_data['GuestStars'].isnull()] \n",
    "no_starguest_df.head()"
   ]
  },
  {
   "cell_type": "code",
   "execution_count": 15,
   "id": "9ee10197",
   "metadata": {},
   "outputs": [
    {
     "data": {
      "text/html": [
       "<div>\n",
       "<style scoped>\n",
       "    .dataframe tbody tr th:only-of-type {\n",
       "        vertical-align: middle;\n",
       "    }\n",
       "\n",
       "    .dataframe tbody tr th {\n",
       "        vertical-align: top;\n",
       "    }\n",
       "\n",
       "    .dataframe thead th {\n",
       "        text-align: right;\n",
       "    }\n",
       "</style>\n",
       "<table border=\"1\" class=\"dataframe\">\n",
       "  <thead>\n",
       "    <tr style=\"text-align: right;\">\n",
       "      <th></th>\n",
       "      <th>Season</th>\n",
       "      <th>EpisodeTitle</th>\n",
       "      <th>About</th>\n",
       "      <th>Ratings</th>\n",
       "      <th>Votes</th>\n",
       "      <th>Viewership</th>\n",
       "      <th>Duration</th>\n",
       "      <th>Date</th>\n",
       "      <th>GuestStars</th>\n",
       "      <th>Director</th>\n",
       "      <th>Writers</th>\n",
       "      <th>Coloring</th>\n",
       "      <th>Episodes</th>\n",
       "    </tr>\n",
       "  </thead>\n",
       "  <tbody>\n",
       "    <tr>\n",
       "      <th>5</th>\n",
       "      <td>1</td>\n",
       "      <td>Hot Girl</td>\n",
       "      <td>Michael is just one of the many male staff who...</td>\n",
       "      <td>7.7</td>\n",
       "      <td>3854</td>\n",
       "      <td>4.8</td>\n",
       "      <td>23</td>\n",
       "      <td>26 April 2005</td>\n",
       "      <td>Amy Adams</td>\n",
       "      <td>Amy Heckerling</td>\n",
       "      <td>Mindy Kaling</td>\n",
       "      <td>red</td>\n",
       "      <td>6</td>\n",
       "    </tr>\n",
       "    <tr>\n",
       "      <th>8</th>\n",
       "      <td>2</td>\n",
       "      <td>Office Olympics</td>\n",
       "      <td>Ready to finalize his deal for a new condo, Mi...</td>\n",
       "      <td>8.4</td>\n",
       "      <td>3665</td>\n",
       "      <td>8.3</td>\n",
       "      <td>22</td>\n",
       "      <td>4 October 2005</td>\n",
       "      <td>Nancy Carell</td>\n",
       "      <td>Paul Feig</td>\n",
       "      <td>Michael Schur</td>\n",
       "      <td>lightgreen</td>\n",
       "      <td>9</td>\n",
       "    </tr>\n",
       "    <tr>\n",
       "      <th>9</th>\n",
       "      <td>2</td>\n",
       "      <td>The Fire</td>\n",
       "      <td>A fire in the kitchen relegates the staff to t...</td>\n",
       "      <td>8.4</td>\n",
       "      <td>3607</td>\n",
       "      <td>7.6</td>\n",
       "      <td>22</td>\n",
       "      <td>11 October 2005</td>\n",
       "      <td>Amy Adams</td>\n",
       "      <td>Ken Kwapis</td>\n",
       "      <td>B. J. Novak</td>\n",
       "      <td>lightgreen</td>\n",
       "      <td>10</td>\n",
       "    </tr>\n",
       "    <tr>\n",
       "      <th>12</th>\n",
       "      <td>2</td>\n",
       "      <td>The Client</td>\n",
       "      <td>With Michael and Jan Levinson-Gould away from ...</td>\n",
       "      <td>8.6</td>\n",
       "      <td>3533</td>\n",
       "      <td>7.5</td>\n",
       "      <td>22</td>\n",
       "      <td>8 November 2005</td>\n",
       "      <td>Tim Meadows</td>\n",
       "      <td>Greg Daniels</td>\n",
       "      <td>Paul Lieberstein</td>\n",
       "      <td>lightgreen</td>\n",
       "      <td>13</td>\n",
       "    </tr>\n",
       "    <tr>\n",
       "      <th>14</th>\n",
       "      <td>2</td>\n",
       "      <td>E-Mail Surveillance</td>\n",
       "      <td>Michael decides to set up e-mail surveillance ...</td>\n",
       "      <td>8.4</td>\n",
       "      <td>3338</td>\n",
       "      <td>8.1</td>\n",
       "      <td>23</td>\n",
       "      <td>22 November 2005</td>\n",
       "      <td>Ken Jeong</td>\n",
       "      <td>Paul Feig</td>\n",
       "      <td>Jennifer Celotta</td>\n",
       "      <td>lightgreen</td>\n",
       "      <td>15</td>\n",
       "    </tr>\n",
       "  </tbody>\n",
       "</table>\n",
       "</div>"
      ],
      "text/plain": [
       "    Season         EpisodeTitle  \\\n",
       "5        1             Hot Girl   \n",
       "8        2      Office Olympics   \n",
       "9        2             The Fire   \n",
       "12       2           The Client   \n",
       "14       2  E-Mail Surveillance   \n",
       "\n",
       "                                                About  Ratings  Votes  \\\n",
       "5   Michael is just one of the many male staff who...      7.7   3854   \n",
       "8   Ready to finalize his deal for a new condo, Mi...      8.4   3665   \n",
       "9   A fire in the kitchen relegates the staff to t...      8.4   3607   \n",
       "12  With Michael and Jan Levinson-Gould away from ...      8.6   3533   \n",
       "14  Michael decides to set up e-mail surveillance ...      8.4   3338   \n",
       "\n",
       "    Viewership  Duration               Date    GuestStars        Director  \\\n",
       "5          4.8        23      26 April 2005     Amy Adams  Amy Heckerling   \n",
       "8          8.3        22     4 October 2005  Nancy Carell       Paul Feig   \n",
       "9          7.6        22    11 October 2005     Amy Adams      Ken Kwapis   \n",
       "12         7.5        22    8 November 2005   Tim Meadows    Greg Daniels   \n",
       "14         8.1        23   22 November 2005     Ken Jeong       Paul Feig   \n",
       "\n",
       "             Writers    Coloring  Episodes  \n",
       "5       Mindy Kaling         red         6  \n",
       "8      Michael Schur  lightgreen         9  \n",
       "9        B. J. Novak  lightgreen        10  \n",
       "12  Paul Lieberstein  lightgreen        13  \n",
       "14  Jennifer Celotta  lightgreen        15  "
      ]
     },
     "execution_count": 15,
     "metadata": {},
     "output_type": "execute_result"
    }
   ],
   "source": [
    "# filter data that have not NAN value\n",
    "starguest_df = office_data[office_data['GuestStars'].notna()]\n",
    "starguest_df.head()"
   ]
  },
  {
   "cell_type": "markdown",
   "id": "aa13e375",
   "metadata": {},
   "source": [
    "## 7. Plot the data"
   ]
  },
  {
   "cell_type": "code",
   "execution_count": 16,
   "id": "f4e41ce6",
   "metadata": {},
   "outputs": [
    {
     "data": {
      "image/png": "[encoded data removed]",
      "text/plain": [
       "<Figure size 864x576 with 1 Axes>"
      ]
     },
     "metadata": {
      "needs_background": "light"
     },
     "output_type": "display_data"
    }
   ],
   "source": [
    "fig = plt.figure(figsize=(12,8))\n",
    "plt.scatter(\n",
    "    starguest_df['Episodes'],\n",
    "    starguest_df['Viewership'], \n",
    "    c=starguest_df['Coloring'],  \n",
    "    s=250, \n",
    "    marker = \"*\",\n",
    "    alpha = 0.8)\n",
    "    \n",
    "plt.scatter(\n",
    "    no_starguest_df['Episodes'],\n",
    "    no_starguest_df['Viewership'], \n",
    "    c=no_starguest_df['Coloring'],  \n",
    "    s=25, \n",
    "    marker = \"o\",\n",
    "    alpha = 0.8)\n",
    "    \n",
    "plt.xlabel(\"Episode Number\", fontsize=16)\n",
    "plt.ylabel(\"Viewership (Millions)\", fontsize=16)\n",
    "plt.title(\"Popularity, Quality, and Guest Appearances on the Office\", fontsize = 20)\n",
    "plt.grid()\n",
    "plt.yticks([0,5,10,15,20,25])\n",
    "plt.show()"
   ]
  },
  {
   "cell_type": "markdown",
   "id": "21e3246e",
   "metadata": {},
   "source": [
    "The most popular episode was in Season 5 (episode 78). Viewed 22.91M. The GuestStars are Cloris Leachman, Jack Black, Jessica Alba.Ratings 9.7."
   ]
  }
 ],
 "metadata": {
  "kernelspec": {
   "display_name": "Python 3",
   "language": "python",
   "name": "python3"
  },
  "language_info": {
   "codemirror_mode": {
    "name": "ipython",
    "version": 3
   },
   "file_extension": ".py",
   "mimetype": "text/x-python",
   "name": "python",
   "nbconvert_exporter": "python",
   "pygments_lexer": "ipython3",
   "version": "3.8.8"
  }
 },
 "nbformat": 4,
 "nbformat_minor": 5
}
