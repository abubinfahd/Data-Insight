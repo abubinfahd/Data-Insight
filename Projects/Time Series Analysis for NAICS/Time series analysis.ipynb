{
 "cells": [
  {
   "cell_type": "markdown",
   "id": "0e22d33c",
   "metadata": {},
   "source": [
    "# Time series analysis"
   ]
  },
  {
   "cell_type": "markdown",
   "id": "c6fef1fb",
   "metadata": {},
   "source": [
    "The North American Industry Classification System (NAICS) is an industry classification system developed by the statistical agencies of Canada, Mexico, and the United States. NAICS is designed to provide common definitions of the industrial structure of the three countries and a common statistical framework to facilitate the analysis of the three economies.\n",
    "\n",
    "Time series analysis is a statistical technique that deals with time-series data, or trend analysis.  Time series data means that data is in a series of particular time periods or intervals.\n",
    "\n",
    "The files from the data set are flat files, Excel (.xlsx), and CSV (.csv) files, we will merge and append data from several files to make a Data Output file. Our first task would be to carry out some data wrangling processes before we can make analysis, ask questions, and gain insights. \n",
    "\n",
    "Summary of the data set files we will be using:-\n",
    "- 15 RTRA (Real-Time Remote Access) CSV files containing employment data by industry at different levels of aggregation, 2-digit NAICS, 3-digit NAICS, and 4-digit NAICS. We will search through rows with 2, or 3, or 4 digits NAICS and append employment data each month of each year from 1997 - 2018 \n",
    "\tMeaning of columns in the files:\n",
    "\t\t- SYEAR: Survey Year\n",
    "\t\t- SMTH: Survey Month\n",
    "\t\t- NAICS: Industry name and associated NAICS code in the bracket\n",
    "\t\t- _EMPLOYMENT_: Employment\n",
    "\n",
    "\n",
    "- LMO Detailed Industries by NAICS: An excel file for mapping the RTRA data to the desired data row.\n",
    " Columns in the file:\n",
    "\t\t- Column 1 lists all 59 industries that are used frequently \n",
    "\t\t- Column 2 list the industries NAICS definitions\n",
    "\n",
    "\n",
    "As part of our data wrangling, we would create a dataset of monthly employment series from 1997 to 2018 for the industries.\n",
    "\n",
    "One of the guiding principles for our data wrangling is to try to create each series from the highest possible level of aggregation in the raw data files, thus, if an LMO Detailed Industry is defined with a 2-digit NAICS only, we would not use a lower level of aggregation (i.e. 3-digit or 4-digit level NAICS files in the RTRA), similarly, if an LMO Detailed Industry is defined with a 3-digit NAICS only, we would not use the 4-digit NAICS files for that industry. \n"
   ]
  },
  {
   "cell_type": "code",
   "execution_count": 1,
   "id": "383845b8",
   "metadata": {},
   "outputs": [],
   "source": [
    "import pandas as pd\n",
    "import numpy as np\n",
    "import pickle\n",
    "import matplotlib.pyplot as plt"
   ]
  },
  {
   "cell_type": "code",
   "execution_count": 2,
   "id": "80b778cd",
   "metadata": {},
   "outputs": [
    {
     "data": {
      "text/plain": [
       "'C:\\\\Users\\\\Abu Bin Fahd\\\\Desktop\\\\Time Series\\\\A_NEWLY_HIRED_DATA_ANALYST'"
      ]
     },
     "execution_count": 2,
     "metadata": {},
     "output_type": "execute_result"
    }
   ],
   "source": [
    "pwd"
   ]
  },
  {
   "cell_type": "code",
   "execution_count": 3,
   "id": "ccd2e850",
   "metadata": {},
   "outputs": [
    {
     "data": {
      "text/html": [
       "<div>\n",
       "<style scoped>\n",
       "    .dataframe tbody tr th:only-of-type {\n",
       "        vertical-align: middle;\n",
       "    }\n",
       "\n",
       "    .dataframe tbody tr th {\n",
       "        vertical-align: top;\n",
       "    }\n",
       "\n",
       "    .dataframe thead th {\n",
       "        text-align: right;\n",
       "    }\n",
       "</style>\n",
       "<table border=\"1\" class=\"dataframe\">\n",
       "  <thead>\n",
       "    <tr style=\"text-align: right;\">\n",
       "      <th></th>\n",
       "      <th>SYEAR</th>\n",
       "      <th>SMTH</th>\n",
       "      <th>LMO_Detailed_Industry</th>\n",
       "      <th>Employment</th>\n",
       "    </tr>\n",
       "  </thead>\n",
       "  <tbody>\n",
       "    <tr>\n",
       "      <th>0</th>\n",
       "      <td>1997</td>\n",
       "      <td>1</td>\n",
       "      <td>Accommodation services</td>\n",
       "      <td>NaN</td>\n",
       "    </tr>\n",
       "    <tr>\n",
       "      <th>1</th>\n",
       "      <td>1997</td>\n",
       "      <td>1</td>\n",
       "      <td>Air transportation</td>\n",
       "      <td>NaN</td>\n",
       "    </tr>\n",
       "    <tr>\n",
       "      <th>2</th>\n",
       "      <td>1997</td>\n",
       "      <td>1</td>\n",
       "      <td>Ambulatory health care services</td>\n",
       "      <td>NaN</td>\n",
       "    </tr>\n",
       "    <tr>\n",
       "      <th>3</th>\n",
       "      <td>1997</td>\n",
       "      <td>1</td>\n",
       "      <td>Amusement, gambling and recreation industries</td>\n",
       "      <td>NaN</td>\n",
       "    </tr>\n",
       "    <tr>\n",
       "      <th>4</th>\n",
       "      <td>1997</td>\n",
       "      <td>1</td>\n",
       "      <td>Architectural, engineering and related services</td>\n",
       "      <td>NaN</td>\n",
       "    </tr>\n",
       "  </tbody>\n",
       "</table>\n",
       "</div>"
      ],
      "text/plain": [
       "   SYEAR  SMTH                            LMO_Detailed_Industry  Employment\n",
       "0   1997     1                           Accommodation services         NaN\n",
       "1   1997     1                               Air transportation         NaN\n",
       "2   1997     1                  Ambulatory health care services         NaN\n",
       "3   1997     1    Amusement, gambling and recreation industries         NaN\n",
       "4   1997     1  Architectural, engineering and related services         NaN"
      ]
     },
     "execution_count": 3,
     "metadata": {},
     "output_type": "execute_result"
    }
   ],
   "source": [
    "data_output = pd.read_excel('Data_Output_Template.xlsx', sheet_name = 'Sheet1')\n",
    "data_output.head()"
   ]
  },
  {
   "cell_type": "markdown",
   "id": "7d6a752e",
   "metadata": {},
   "source": [
    "We will begin our data wrangling with the two imported files as DataFrames, reviewing the Data Output template, it has columns for SYEAR, SMTH, LMO_Detailed_Industry, and Employment, but for us append employment data successfully, we would need to give each row a unique identifier to be able to select unique rows from the RTRA CSV files, hence we create a column for the NAICS code as NAICS."
   ]
  },
  {
   "cell_type": "code",
   "execution_count": 4,
   "id": "2fa12dea",
   "metadata": {},
   "outputs": [
    {
     "data": {
      "text/html": [
       "<div>\n",
       "<style scoped>\n",
       "    .dataframe tbody tr th:only-of-type {\n",
       "        vertical-align: middle;\n",
       "    }\n",
       "\n",
       "    .dataframe tbody tr th {\n",
       "        vertical-align: top;\n",
       "    }\n",
       "\n",
       "    .dataframe thead th {\n",
       "        text-align: right;\n",
       "    }\n",
       "</style>\n",
       "<table border=\"1\" class=\"dataframe\">\n",
       "  <thead>\n",
       "    <tr style=\"text-align: right;\">\n",
       "      <th></th>\n",
       "      <th>LMO_Detailed_Industry</th>\n",
       "      <th>NAICS</th>\n",
       "    </tr>\n",
       "  </thead>\n",
       "  <tbody>\n",
       "    <tr>\n",
       "      <th>0</th>\n",
       "      <td>Farms</td>\n",
       "      <td>111 &amp; 112</td>\n",
       "    </tr>\n",
       "    <tr>\n",
       "      <th>1</th>\n",
       "      <td>Fishing, hunting and trapping</td>\n",
       "      <td>114</td>\n",
       "    </tr>\n",
       "    <tr>\n",
       "      <th>2</th>\n",
       "      <td>Forestry and logging</td>\n",
       "      <td>113</td>\n",
       "    </tr>\n",
       "    <tr>\n",
       "      <th>3</th>\n",
       "      <td>Support activities for agriculture and forestry</td>\n",
       "      <td>115</td>\n",
       "    </tr>\n",
       "    <tr>\n",
       "      <th>4</th>\n",
       "      <td>Oil and gas extraction</td>\n",
       "      <td>211</td>\n",
       "    </tr>\n",
       "  </tbody>\n",
       "</table>\n",
       "</div>"
      ],
      "text/plain": [
       "                             LMO_Detailed_Industry      NAICS\n",
       "0                                            Farms  111 & 112\n",
       "1                    Fishing, hunting and trapping        114\n",
       "2                             Forestry and logging        113\n",
       "3  Support activities for agriculture and forestry        115\n",
       "4                           Oil and gas extraction        211"
      ]
     },
     "execution_count": 4,
     "metadata": {},
     "output_type": "execute_result"
    }
   ],
   "source": [
    "lmo_details = pd.read_excel('LMO_Detailed_Industries_by_NAICS.xlsx', sheet_name='LMO_Detailed_Industry')\n",
    "lmo_details.head()"
   ]
  },
  {
   "cell_type": "code",
   "execution_count": 5,
   "id": "909b1500",
   "metadata": {},
   "outputs": [
    {
     "data": {
      "text/html": [
       "<div>\n",
       "<style scoped>\n",
       "    .dataframe tbody tr th:only-of-type {\n",
       "        vertical-align: middle;\n",
       "    }\n",
       "\n",
       "    .dataframe tbody tr th {\n",
       "        vertical-align: top;\n",
       "    }\n",
       "\n",
       "    .dataframe thead th {\n",
       "        text-align: right;\n",
       "    }\n",
       "</style>\n",
       "<table border=\"1\" class=\"dataframe\">\n",
       "  <thead>\n",
       "    <tr style=\"text-align: right;\">\n",
       "      <th></th>\n",
       "      <th>SYEAR</th>\n",
       "      <th>SMTH</th>\n",
       "      <th>LMO_Detailed_Industry</th>\n",
       "      <th>Employment</th>\n",
       "    </tr>\n",
       "  </thead>\n",
       "  <tbody>\n",
       "    <tr>\n",
       "      <th>0</th>\n",
       "      <td>1997</td>\n",
       "      <td>1</td>\n",
       "      <td>Accommodation services</td>\n",
       "      <td>0.0</td>\n",
       "    </tr>\n",
       "    <tr>\n",
       "      <th>1</th>\n",
       "      <td>1997</td>\n",
       "      <td>1</td>\n",
       "      <td>Air transportation</td>\n",
       "      <td>0.0</td>\n",
       "    </tr>\n",
       "    <tr>\n",
       "      <th>2</th>\n",
       "      <td>1997</td>\n",
       "      <td>1</td>\n",
       "      <td>Ambulatory health care services</td>\n",
       "      <td>0.0</td>\n",
       "    </tr>\n",
       "    <tr>\n",
       "      <th>3</th>\n",
       "      <td>1997</td>\n",
       "      <td>1</td>\n",
       "      <td>Amusement, gambling and recreation industries</td>\n",
       "      <td>0.0</td>\n",
       "    </tr>\n",
       "    <tr>\n",
       "      <th>4</th>\n",
       "      <td>1997</td>\n",
       "      <td>1</td>\n",
       "      <td>Architectural, engineering and related services</td>\n",
       "      <td>0.0</td>\n",
       "    </tr>\n",
       "  </tbody>\n",
       "</table>\n",
       "</div>"
      ],
      "text/plain": [
       "   SYEAR  SMTH                            LMO_Detailed_Industry  Employment\n",
       "0   1997     1                           Accommodation services         0.0\n",
       "1   1997     1                               Air transportation         0.0\n",
       "2   1997     1                  Ambulatory health care services         0.0\n",
       "3   1997     1    Amusement, gambling and recreation industries         0.0\n",
       "4   1997     1  Architectural, engineering and related services         0.0"
      ]
     },
     "execution_count": 5,
     "metadata": {},
     "output_type": "execute_result"
    }
   ],
   "source": [
    "data_output = data_output.fillna(0)\n",
    "data_output.head()"
   ]
  },
  {
   "cell_type": "code",
   "execution_count": 6,
   "id": "4d001e29",
   "metadata": {},
   "outputs": [
    {
     "data": {
      "text/html": [
       "<div>\n",
       "<style scoped>\n",
       "    .dataframe tbody tr th:only-of-type {\n",
       "        vertical-align: middle;\n",
       "    }\n",
       "\n",
       "    .dataframe tbody tr th {\n",
       "        vertical-align: top;\n",
       "    }\n",
       "\n",
       "    .dataframe thead th {\n",
       "        text-align: right;\n",
       "    }\n",
       "</style>\n",
       "<table border=\"1\" class=\"dataframe\">\n",
       "  <thead>\n",
       "    <tr style=\"text-align: right;\">\n",
       "      <th></th>\n",
       "      <th>SYEAR</th>\n",
       "      <th>SMTH</th>\n",
       "      <th>LMO_Detailed_Industry</th>\n",
       "      <th>Employment</th>\n",
       "      <th>NAICS</th>\n",
       "    </tr>\n",
       "  </thead>\n",
       "  <tbody>\n",
       "    <tr>\n",
       "      <th>0</th>\n",
       "      <td>1997</td>\n",
       "      <td>1</td>\n",
       "      <td>Accommodation services</td>\n",
       "      <td>0.0</td>\n",
       "      <td></td>\n",
       "    </tr>\n",
       "    <tr>\n",
       "      <th>1</th>\n",
       "      <td>1997</td>\n",
       "      <td>1</td>\n",
       "      <td>Air transportation</td>\n",
       "      <td>0.0</td>\n",
       "      <td></td>\n",
       "    </tr>\n",
       "    <tr>\n",
       "      <th>2</th>\n",
       "      <td>1997</td>\n",
       "      <td>1</td>\n",
       "      <td>Ambulatory health care services</td>\n",
       "      <td>0.0</td>\n",
       "      <td></td>\n",
       "    </tr>\n",
       "    <tr>\n",
       "      <th>3</th>\n",
       "      <td>1997</td>\n",
       "      <td>1</td>\n",
       "      <td>Amusement, gambling and recreation industries</td>\n",
       "      <td>0.0</td>\n",
       "      <td></td>\n",
       "    </tr>\n",
       "    <tr>\n",
       "      <th>4</th>\n",
       "      <td>1997</td>\n",
       "      <td>1</td>\n",
       "      <td>Architectural, engineering and related services</td>\n",
       "      <td>0.0</td>\n",
       "      <td></td>\n",
       "    </tr>\n",
       "  </tbody>\n",
       "</table>\n",
       "</div>"
      ],
      "text/plain": [
       "   SYEAR  SMTH                            LMO_Detailed_Industry  Employment  \\\n",
       "0   1997     1                           Accommodation services         0.0   \n",
       "1   1997     1                               Air transportation         0.0   \n",
       "2   1997     1                  Ambulatory health care services         0.0   \n",
       "3   1997     1    Amusement, gambling and recreation industries         0.0   \n",
       "4   1997     1  Architectural, engineering and related services         0.0   \n",
       "\n",
       "  NAICS  \n",
       "0        \n",
       "1        \n",
       "2        \n",
       "3        \n",
       "4        "
      ]
     },
     "execution_count": 6,
     "metadata": {},
     "output_type": "execute_result"
    }
   ],
   "source": [
    "data_output['NAICS'] = \"\"\n",
    "data_output.head()"
   ]
  },
  {
   "cell_type": "code",
   "execution_count": 7,
   "id": "2514a91c",
   "metadata": {},
   "outputs": [
    {
     "data": {
      "text/html": [
       "<div>\n",
       "<style scoped>\n",
       "    .dataframe tbody tr th:only-of-type {\n",
       "        vertical-align: middle;\n",
       "    }\n",
       "\n",
       "    .dataframe tbody tr th {\n",
       "        vertical-align: top;\n",
       "    }\n",
       "\n",
       "    .dataframe thead th {\n",
       "        text-align: right;\n",
       "    }\n",
       "</style>\n",
       "<table border=\"1\" class=\"dataframe\">\n",
       "  <thead>\n",
       "    <tr style=\"text-align: right;\">\n",
       "      <th></th>\n",
       "      <th>LMO_Detailed_Industry</th>\n",
       "      <th>NAICS</th>\n",
       "    </tr>\n",
       "  </thead>\n",
       "  <tbody>\n",
       "    <tr>\n",
       "      <th>0</th>\n",
       "      <td>Farms</td>\n",
       "      <td>111 &amp; 112</td>\n",
       "    </tr>\n",
       "    <tr>\n",
       "      <th>1</th>\n",
       "      <td>Fishing, hunting and trapping</td>\n",
       "      <td>114</td>\n",
       "    </tr>\n",
       "    <tr>\n",
       "      <th>2</th>\n",
       "      <td>Forestry and logging</td>\n",
       "      <td>113</td>\n",
       "    </tr>\n",
       "    <tr>\n",
       "      <th>3</th>\n",
       "      <td>Support activities for agriculture and forestry</td>\n",
       "      <td>115</td>\n",
       "    </tr>\n",
       "    <tr>\n",
       "      <th>4</th>\n",
       "      <td>Oil and gas extraction</td>\n",
       "      <td>211</td>\n",
       "    </tr>\n",
       "  </tbody>\n",
       "</table>\n",
       "</div>"
      ],
      "text/plain": [
       "                             LMO_Detailed_Industry      NAICS\n",
       "0                                            Farms  111 & 112\n",
       "1                    Fishing, hunting and trapping        114\n",
       "2                             Forestry and logging        113\n",
       "3  Support activities for agriculture and forestry        115\n",
       "4                           Oil and gas extraction        211"
      ]
     },
     "execution_count": 7,
     "metadata": {},
     "output_type": "execute_result"
    }
   ],
   "source": [
    "lmo_details['NAICS'] = lmo_details['NAICS'].astype(str)\n",
    "lmo_details.head()"
   ]
  },
  {
   "cell_type": "code",
   "execution_count": 8,
   "id": "41247bf7",
   "metadata": {},
   "outputs": [
    {
     "name": "stdout",
     "output_type": "stream",
     "text": [
      "<class 'pandas.core.frame.DataFrame'>\n",
      "RangeIndex: 15576 entries, 0 to 15575\n",
      "Data columns (total 5 columns):\n",
      " #   Column                 Non-Null Count  Dtype  \n",
      "---  ------                 --------------  -----  \n",
      " 0   SYEAR                  15576 non-null  int64  \n",
      " 1   SMTH                   15576 non-null  int64  \n",
      " 2   LMO_Detailed_Industry  15576 non-null  object \n",
      " 3   Employment             15576 non-null  float64\n",
      " 4   NAICS                  15576 non-null  object \n",
      "dtypes: float64(1), int64(2), object(2)\n",
      "memory usage: 608.6+ KB\n",
      "\n",
      "<class 'pandas.core.frame.DataFrame'>\n",
      "RangeIndex: 59 entries, 0 to 58\n",
      "Data columns (total 2 columns):\n",
      " #   Column                 Non-Null Count  Dtype \n",
      "---  ------                 --------------  ----- \n",
      " 0   LMO_Detailed_Industry  59 non-null     object\n",
      " 1   NAICS                  59 non-null     object\n",
      "dtypes: object(2)\n",
      "memory usage: 1.0+ KB\n"
     ]
    }
   ],
   "source": [
    "data_output.info()\n",
    "print()\n",
    "lmo_details.info()"
   ]
  },
  {
   "cell_type": "code",
   "execution_count": 9,
   "id": "e683720c",
   "metadata": {},
   "outputs": [
    {
     "data": {
      "text/plain": [
       "array(['Accommodation services', 'Air transportation',\n",
       "       'Ambulatory health care services', ..., 'Water transportation',\n",
       "       'Wholesale trade', 'Wood product manufacturing'], dtype=object)"
      ]
     },
     "execution_count": 9,
     "metadata": {},
     "output_type": "execute_result"
    }
   ],
   "source": [
    "data_output_lmo_industries = data_output['LMO_Detailed_Industry'].values\n",
    "data_output_lmo_industries"
   ]
  },
  {
   "cell_type": "code",
   "execution_count": 10,
   "id": "2bdeb2cc",
   "metadata": {},
   "outputs": [],
   "source": [
    "for industry in data_output_lmo_industries:\n",
    "    if(lmo_details['LMO_Detailed_Industry'].isin([industry]).any()):\n",
    "        data_output.loc[data_output['LMO_Detailed_Industry'] == industry, ['NAICS']] \\\n",
    "        = lmo_details.loc[lmo_details['LMO_Detailed_Industry'] == industry, ['NAICS']].values     "
   ]
  },
  {
   "cell_type": "code",
   "execution_count": 11,
   "id": "7669020f",
   "metadata": {},
   "outputs": [
    {
     "data": {
      "text/html": [
       "<div>\n",
       "<style scoped>\n",
       "    .dataframe tbody tr th:only-of-type {\n",
       "        vertical-align: middle;\n",
       "    }\n",
       "\n",
       "    .dataframe tbody tr th {\n",
       "        vertical-align: top;\n",
       "    }\n",
       "\n",
       "    .dataframe thead th {\n",
       "        text-align: right;\n",
       "    }\n",
       "</style>\n",
       "<table border=\"1\" class=\"dataframe\">\n",
       "  <thead>\n",
       "    <tr style=\"text-align: right;\">\n",
       "      <th></th>\n",
       "      <th>SYEAR</th>\n",
       "      <th>SMTH</th>\n",
       "      <th>LMO_Detailed_Industry</th>\n",
       "      <th>Employment</th>\n",
       "      <th>NAICS</th>\n",
       "    </tr>\n",
       "  </thead>\n",
       "  <tbody>\n",
       "    <tr>\n",
       "      <th>0</th>\n",
       "      <td>1997</td>\n",
       "      <td>1</td>\n",
       "      <td>Accommodation services</td>\n",
       "      <td>0.0</td>\n",
       "      <td>721</td>\n",
       "    </tr>\n",
       "    <tr>\n",
       "      <th>1</th>\n",
       "      <td>1997</td>\n",
       "      <td>1</td>\n",
       "      <td>Air transportation</td>\n",
       "      <td>0.0</td>\n",
       "      <td>481</td>\n",
       "    </tr>\n",
       "    <tr>\n",
       "      <th>2</th>\n",
       "      <td>1997</td>\n",
       "      <td>1</td>\n",
       "      <td>Ambulatory health care services</td>\n",
       "      <td>0.0</td>\n",
       "      <td>621</td>\n",
       "    </tr>\n",
       "    <tr>\n",
       "      <th>3</th>\n",
       "      <td>1997</td>\n",
       "      <td>1</td>\n",
       "      <td>Amusement, gambling and recreation industries</td>\n",
       "      <td>0.0</td>\n",
       "      <td>713</td>\n",
       "    </tr>\n",
       "    <tr>\n",
       "      <th>4</th>\n",
       "      <td>1997</td>\n",
       "      <td>1</td>\n",
       "      <td>Architectural, engineering and related services</td>\n",
       "      <td>0.0</td>\n",
       "      <td>5413</td>\n",
       "    </tr>\n",
       "  </tbody>\n",
       "</table>\n",
       "</div>"
      ],
      "text/plain": [
       "   SYEAR  SMTH                            LMO_Detailed_Industry  Employment  \\\n",
       "0   1997     1                           Accommodation services         0.0   \n",
       "1   1997     1                               Air transportation         0.0   \n",
       "2   1997     1                  Ambulatory health care services         0.0   \n",
       "3   1997     1    Amusement, gambling and recreation industries         0.0   \n",
       "4   1997     1  Architectural, engineering and related services         0.0   \n",
       "\n",
       "  NAICS  \n",
       "0   721  \n",
       "1   481  \n",
       "2   621  \n",
       "3   713  \n",
       "4  5413  "
      ]
     },
     "execution_count": 11,
     "metadata": {},
     "output_type": "execute_result"
    }
   ],
   "source": [
    "data_output.head()"
   ]
  },
  {
   "cell_type": "markdown",
   "id": "aca00fc6",
   "metadata": {},
   "source": [
    "The information of each DataFrame shows that the Data Output file has 15576 rows, a product of 12 months of each year from 1997 to 2018 for each of the 59 industries. \n",
    "\n",
    "\n",
    "We fill rows with \"0\" for industries with compound/ complex NAICS from the LMO_Detailed_Industries if their NAICS provided cannot be determined dynamically from the RTRA files. \n",
    "\n",
    "We get a list of all the industry names from the Data Output file so we can pick the NAICS for each industry from the LMO_Detailed_Industry file, this is to ensure we get the NAICS codes data based on what was provided in the Data Output file. \n",
    "\n",
    "In cell [10] we run a computation using a for loop, looping through the industry list and appending NAICS codes from the LMO_Detailed_Industry for each industry in the rows of the Data Output file.\n",
    "At the end of the computation, in the cell [11] we see that the NAICS column is filled with appropriate codes for each industry. "
   ]
  },
  {
   "cell_type": "code",
   "execution_count": 12,
   "id": "0d445634",
   "metadata": {},
   "outputs": [],
   "source": [
    "rtrafiles = [\n",
    "    [('RTRA_Employ_2NAICS_00_05.csv', 2), ('RTRA_Employ_3NAICS_00_05.csv', 3), ('RTRA_Employ_4NAICS_00_05.csv', 4)],\n",
    "    [('RTRA_Employ_2NAICS_06_10.csv', 2), ('RTRA_Employ_3NAICS_06_10.csv', 3), ('RTRA_Employ_4NAICS_06_10.csv', 4)],\n",
    "    [('RTRA_Employ_2NAICS_11_15.csv', 2), ('RTRA_Employ_3NAICS_11_15.csv', 3), ('RTRA_Employ_4NAICS_11_15.csv', 4)],\n",
    "    [('RTRA_Employ_2NAICS_16_20.csv', 2), ('RTRA_Employ_3NAICS_16_20.csv', 3), ('RTRA_Employ_4NAICS_16_20.csv', 4)],\n",
    "    [('RTRA_Employ_2NAICS_97_99.csv', 2), ('RTRA_Employ_3NAICS_97_99.csv', 3), ('RTRA_Employ_4NAICS_97_99.csv', 4)]\n",
    "]"
   ]
  },
  {
   "cell_type": "code",
   "execution_count": 13,
   "id": "8c2a6aff",
   "metadata": {},
   "outputs": [
    {
     "name": "stdout",
     "output_type": "stream",
     "text": [
      "<class 'pandas.core.frame.DataFrame'>\n",
      "RangeIndex: 15576 entries, 0 to 15575\n",
      "Data columns (total 5 columns):\n",
      " #   Column                 Non-Null Count  Dtype  \n",
      "---  ------                 --------------  -----  \n",
      " 0   SYEAR                  15576 non-null  int64  \n",
      " 1   SMTH                   15576 non-null  int64  \n",
      " 2   LMO_Detailed_Industry  15576 non-null  object \n",
      " 3   Employment             15576 non-null  float64\n",
      " 4   NAICS                  15576 non-null  object \n",
      "dtypes: float64(1), int64(2), object(2)\n",
      "memory usage: 608.6+ KB\n"
     ]
    }
   ],
   "source": [
    "data_output['Employment'] == data_output['Employment'].astype(np.int64)\n",
    "data_output.info()"
   ]
  },
  {
   "cell_type": "markdown",
   "id": "f88e3424",
   "metadata": {},
   "source": [
    "We load the 15 RTRA CSV files so that we get and append the employment data for each industry, based on their NAICS which we have appended to the Data Output file.\n",
    "\n",
    "We extract the NAICS and the SYEAR (Year) from the Data Output file so that we can uniquely identify rows from the Data Output file and any particular RTRA file which is being considered in the loop.\n",
    "\n"
   ]
  },
  {
   "cell_type": "code",
   "execution_count": 14,
   "id": "ca793d7c",
   "metadata": {},
   "outputs": [
    {
     "data": {
      "text/plain": [
       "array(['721', '481', '621', '713', '5413', '515, 518 & 519', '55 & 56',\n",
       "       '6112', '5415', '23', '6111', '332', '111 & 112', '911',\n",
       "       '521, 522, 523 & 526', '114', '722', '311 & 312', '113', '446',\n",
       "       '712', '622', '524', '5411, 5412, 5414, 5417, 5418 & 5419',\n",
       "       '913, 914 & 919', '333', '5416', '212', '512', '441', '623', '211',\n",
       "       '313, 314, 315, 316, 323, 324, 325, 326, 327, 334, 335, 337 & 339',\n",
       "       '442,443,444,445,446,447,448,451,452,453 & 454', '322', '711',\n",
       "       '491 & 492', '331', '6114, 6115, 6116 & 6117', '912', '511', '482',\n",
       "       '53', '81', '3366', '624', '115', '213', '488', '517',\n",
       "       '485,486 & 487', '3361,  3362,  3363, 3364, 3365, 3369', '484',\n",
       "       '6113', '22', '493', '483', '41', '321'], dtype=object)"
      ]
     },
     "execution_count": 14,
     "metadata": {},
     "output_type": "execute_result"
    }
   ],
   "source": [
    "naics_codes = data_output['NAICS'].unique()\n",
    "naics_codes"
   ]
  },
  {
   "cell_type": "code",
   "execution_count": 15,
   "id": "d854a3ab",
   "metadata": {},
   "outputs": [
    {
     "data": {
      "text/plain": [
       "array([1997, 1998, 1999, 2000, 2001, 2002, 2003, 2004, 2005, 2006, 2007,\n",
       "       2008, 2009, 2010, 2011, 2012, 2013, 2014, 2015, 2016, 2017, 2018],\n",
       "      dtype=int64)"
      ]
     },
     "execution_count": 15,
     "metadata": {},
     "output_type": "execute_result"
    }
   ],
   "source": [
    "syear = data_output['SYEAR'].unique()\n",
    "syear"
   ]
  },
  {
   "cell_type": "code",
   "execution_count": 16,
   "id": "2ff19a97",
   "metadata": {},
   "outputs": [],
   "source": [
    "for rtrafile in rtrafiles:\n",
    "    for rtraYear, codeslen in rtrafile:\n",
    "        rtra = pd.read_csv(rtraYear)\n",
    "        \n",
    "        rtra['NAICS'] = rtra['NAICS'].astype(str)\n",
    "        \n",
    "        codes = [len(x) == codeslen for x in naics_codes]\n",
    "        \n",
    "        codes = naics_codes[codes]\n",
    "        \n",
    "        for year in syear:\n",
    "            for month in range(1, 13):\n",
    "                for code in codes:\n",
    "                    row = rtra[(rtra['NAICS'].str.contains(code)) & (rtra['SMTH'] == month) & (rtra['SYEAR'] == year)]\n",
    "                    \n",
    "                    if(row.any().any()):\n",
    "                        data_output.loc[((data_output['NAICS'] == code) & (data_output['SMTH'] == month) \\\n",
    "                                         & (data_output['SYEAR'] == year)), ['Employment']] = row['_EMPLOYMENT_'].values[0]"
   ]
  },
  {
   "cell_type": "code",
   "execution_count": 17,
   "id": "414b6939",
   "metadata": {},
   "outputs": [
    {
     "data": {
      "text/html": [
       "<div>\n",
       "<style scoped>\n",
       "    .dataframe tbody tr th:only-of-type {\n",
       "        vertical-align: middle;\n",
       "    }\n",
       "\n",
       "    .dataframe tbody tr th {\n",
       "        vertical-align: top;\n",
       "    }\n",
       "\n",
       "    .dataframe thead th {\n",
       "        text-align: right;\n",
       "    }\n",
       "</style>\n",
       "<table border=\"1\" class=\"dataframe\">\n",
       "  <thead>\n",
       "    <tr style=\"text-align: right;\">\n",
       "      <th></th>\n",
       "      <th>SYEAR</th>\n",
       "      <th>SMTH</th>\n",
       "      <th>LMO_Detailed_Industry</th>\n",
       "      <th>Employment</th>\n",
       "      <th>NAICS</th>\n",
       "    </tr>\n",
       "  </thead>\n",
       "  <tbody>\n",
       "    <tr>\n",
       "      <th>0</th>\n",
       "      <td>1997</td>\n",
       "      <td>1</td>\n",
       "      <td>Accommodation services</td>\n",
       "      <td>24000.0</td>\n",
       "      <td>721</td>\n",
       "    </tr>\n",
       "    <tr>\n",
       "      <th>1</th>\n",
       "      <td>1997</td>\n",
       "      <td>1</td>\n",
       "      <td>Air transportation</td>\n",
       "      <td>17000.0</td>\n",
       "      <td>481</td>\n",
       "    </tr>\n",
       "    <tr>\n",
       "      <th>2</th>\n",
       "      <td>1997</td>\n",
       "      <td>1</td>\n",
       "      <td>Ambulatory health care services</td>\n",
       "      <td>40000.0</td>\n",
       "      <td>621</td>\n",
       "    </tr>\n",
       "    <tr>\n",
       "      <th>3</th>\n",
       "      <td>1997</td>\n",
       "      <td>1</td>\n",
       "      <td>Amusement, gambling and recreation industries</td>\n",
       "      <td>20000.0</td>\n",
       "      <td>713</td>\n",
       "    </tr>\n",
       "    <tr>\n",
       "      <th>4</th>\n",
       "      <td>1997</td>\n",
       "      <td>1</td>\n",
       "      <td>Architectural, engineering and related services</td>\n",
       "      <td>27000.0</td>\n",
       "      <td>5413</td>\n",
       "    </tr>\n",
       "    <tr>\n",
       "      <th>5</th>\n",
       "      <td>1997</td>\n",
       "      <td>1</td>\n",
       "      <td>Broadcasting, data processing, and information</td>\n",
       "      <td>0.0</td>\n",
       "      <td>515, 518 &amp; 519</td>\n",
       "    </tr>\n",
       "    <tr>\n",
       "      <th>6</th>\n",
       "      <td>1997</td>\n",
       "      <td>1</td>\n",
       "      <td>Business, building and other support services</td>\n",
       "      <td>0.0</td>\n",
       "      <td>55 &amp; 56</td>\n",
       "    </tr>\n",
       "    <tr>\n",
       "      <th>7</th>\n",
       "      <td>1997</td>\n",
       "      <td>1</td>\n",
       "      <td>Community colleges</td>\n",
       "      <td>9000.0</td>\n",
       "      <td>6112</td>\n",
       "    </tr>\n",
       "    <tr>\n",
       "      <th>8</th>\n",
       "      <td>1997</td>\n",
       "      <td>1</td>\n",
       "      <td>Computer systems design and related services</td>\n",
       "      <td>18250.0</td>\n",
       "      <td>5415</td>\n",
       "    </tr>\n",
       "    <tr>\n",
       "      <th>9</th>\n",
       "      <td>1997</td>\n",
       "      <td>1</td>\n",
       "      <td>Construction</td>\n",
       "      <td>118000.0</td>\n",
       "      <td>23</td>\n",
       "    </tr>\n",
       "  </tbody>\n",
       "</table>\n",
       "</div>"
      ],
      "text/plain": [
       "   SYEAR  SMTH                            LMO_Detailed_Industry  Employment  \\\n",
       "0   1997     1                           Accommodation services     24000.0   \n",
       "1   1997     1                               Air transportation     17000.0   \n",
       "2   1997     1                  Ambulatory health care services     40000.0   \n",
       "3   1997     1    Amusement, gambling and recreation industries     20000.0   \n",
       "4   1997     1  Architectural, engineering and related services     27000.0   \n",
       "5   1997     1   Broadcasting, data processing, and information         0.0   \n",
       "6   1997     1    Business, building and other support services         0.0   \n",
       "7   1997     1                               Community colleges      9000.0   \n",
       "8   1997     1     Computer systems design and related services     18250.0   \n",
       "9   1997     1                                     Construction    118000.0   \n",
       "\n",
       "            NAICS  \n",
       "0             721  \n",
       "1             481  \n",
       "2             621  \n",
       "3             713  \n",
       "4            5413  \n",
       "5  515, 518 & 519  \n",
       "6         55 & 56  \n",
       "7            6112  \n",
       "8            5415  \n",
       "9              23  "
      ]
     },
     "execution_count": 17,
     "metadata": {},
     "output_type": "execute_result"
    }
   ],
   "source": [
    "data_output.head(10)"
   ]
  },
  {
   "cell_type": "markdown",
   "id": "6592083a",
   "metadata": {},
   "source": [
    "Cell [16] is our most complex code block with a long computation time based on the repetitive and conditional computation we have to do to be able to get unique employment data for each row from over the 15 RTRA CSV files for each month of each year for each industry. \n",
    "\n",
    "Printing the head() of the Data Output file shows that the Employment has been appended with unique values, their authenticity can be confirmed manually.\n",
    "\n",
    "\n",
    "We have been able to successfully wrangle and append the employment data unique for every row in the Data Output file. \n",
    "\n",
    "\n",
    "Now we can progress to make some data analysis, ask questions, create visualizations, and gain some insights, and derive some new knowledge from the dataset.Cell [16] is our most complex code block with a long computation time based on the repetitive and conditional computation we have to do to be able to get unique employment data for each row from over the 15 RTRA CSV files for each month of each year for each industry. \n",
    "\n",
    "Printing the head() of the Data Output file shows that the Employment has been appended with unique values, their authenticity can be confirmed manually.\n",
    "\n",
    "\n",
    "We have been able to successfully wrangle and append the employment data unique for every row in the Data Output file. \n",
    "\n",
    "\n",
    "Now we can progress to make some data analysis, ask questions, create visualizations, and gain some insights, and derive some new knowledge from the dataset."
   ]
  },
  {
   "cell_type": "markdown",
   "id": "58860072",
   "metadata": {},
   "source": [
    "### Construction evolved over time?\n"
   ]
  },
  {
   "cell_type": "code",
   "execution_count": 18,
   "id": "285d032e",
   "metadata": {},
   "outputs": [
    {
     "name": "stdout",
     "output_type": "stream",
     "text": [
      "<class 'pandas.core.frame.DataFrame'>\n",
      "Int64Index: 264 entries, 9 to 15526\n",
      "Data columns (total 5 columns):\n",
      " #   Column                 Non-Null Count  Dtype  \n",
      "---  ------                 --------------  -----  \n",
      " 0   SYEAR                  264 non-null    int64  \n",
      " 1   SMTH                   264 non-null    int64  \n",
      " 2   LMO_Detailed_Industry  264 non-null    object \n",
      " 3   Employment             264 non-null    float64\n",
      " 4   NAICS                  264 non-null    object \n",
      "dtypes: float64(1), int64(2), object(2)\n",
      "memory usage: 12.4+ KB\n"
     ]
    }
   ],
   "source": [
    "construction = data_output.loc[data_output['LMO_Detailed_Industry'] == 'Construction']\n",
    "construction.info()"
   ]
  },
  {
   "cell_type": "code",
   "execution_count": 19,
   "id": "4cd4071f",
   "metadata": {},
   "outputs": [],
   "source": [
    "construction_employment_by_year = construction.groupby(['SYEAR'])['Employment'].sum()"
   ]
  },
  {
   "cell_type": "code",
   "execution_count": 20,
   "id": "0ac584ab",
   "metadata": {},
   "outputs": [
    {
     "data": {
      "image/png": "[encoded data removed]",
      "text/plain": [
       "<Figure size 1440x504 with 1 Axes>"
      ]
     },
     "metadata": {
      "needs_background": "light"
     },
     "output_type": "display_data"
    }
   ],
   "source": [
    "fig1, ax1 = plt.subplots()\n",
    "fig1.set_size_inches([20, 7])\n",
    "ax1.plot(construction_employment_by_year.index, construction_employment_by_year.values)\n",
    "ax1.set_xticks(range(1997, 2019))\n",
    "fig1.suptitle('Employmentt rate in the Construction Industry', fontsize=20)\n",
    "plt.show()"
   ]
  },
  {
   "cell_type": "markdown",
   "id": "bb5aaaaa",
   "metadata": {},
   "source": [
    "We slice the DataFrame to get rows for the Construction industry, then we group the Construction DataFrame by SYEAR column so that we can plot the employment trend across the years, from 1997 - 2018. \n",
    "There has been significant growth, an upward trend, in the construction industry, there was a peak in the growth rate from 2003.\n"
   ]
  },
  {
   "cell_type": "markdown",
   "id": "facfeb62",
   "metadata": {},
   "source": [
    "### Employment in Construction evolved over time?"
   ]
  },
  {
   "cell_type": "markdown",
   "id": "18f0aea0",
   "metadata": {},
   "source": [
    "Let us consider the percentage of all employments in the construction industry against total employment across all industries."
   ]
  },
  {
   "cell_type": "code",
   "execution_count": 21,
   "id": "e7214161",
   "metadata": {},
   "outputs": [
    {
     "data": {
      "text/plain": [
       "11.566374741895782"
      ]
     },
     "execution_count": 21,
     "metadata": {},
     "output_type": "execute_result"
    }
   ],
   "source": [
    "percentage = (construction['Employment'].sum() / data_output['Employment'].sum())*100\n",
    "percentage"
   ]
  },
  {
   "cell_type": "markdown",
   "id": "be20d68f",
   "metadata": {},
   "source": [
    "The percentage of total construction employments from 1997 - 2018 from the total number of employments in all industries (construction industry inclusive) is approx. 11.56%\n",
    "\n",
    "\n",
    "Let us consider the employment rate of other industries (excluding the construction industry) in total, how has the employment rate been?"
   ]
  },
  {
   "cell_type": "code",
   "execution_count": 22,
   "id": "ca139263",
   "metadata": {},
   "outputs": [],
   "source": [
    "other_industriesA = data_output.loc[np.invert(data_output['LMO_Detailed_Industry'] == 'Constructions')]\n",
    "other_industriesA_employment_by_year = other_industriesA.groupby(['SYEAR'])['Employment'].sum()\n"
   ]
  },
  {
   "cell_type": "code",
   "execution_count": 23,
   "id": "8b4891e7",
   "metadata": {},
   "outputs": [
    {
     "data": {
      "image/png": "[encoded data removed]",
      "text/plain": [
       "<Figure size 1440x504 with 1 Axes>"
      ]
     },
     "metadata": {
      "needs_background": "light"
     },
     "output_type": "display_data"
    }
   ],
   "source": [
    "fig2, ax2 = plt.subplots()\n",
    "fig2.set_size_inches([20, 7])\n",
    "ax2.plot(other_industriesA_employment_by_year.index, other_industriesA_employment_by_year.values)\n",
    "ax2.set_xticks(range(1997, 2019))\n",
    "fig2.suptitle('Other indusries emplment rate')\n",
    "plt.show()"
   ]
  },
  {
   "cell_type": "markdown",
   "id": "2a1fc463",
   "metadata": {},
   "source": [
    "We can clearly see that there has been a significant upward trend in the employment rate of these industries, just like the construction industry. "
   ]
  }
 ],
 "metadata": {
  "kernelspec": {
   "display_name": "Python 3 (ipykernel)",
   "language": "python",
   "name": "python3"
  },
  "language_info": {
   "codemirror_mode": {
    "name": "ipython",
    "version": 3
   },
   "file_extension": ".py",
   "mimetype": "text/x-python",
   "name": "python",
   "nbconvert_exporter": "python",
   "pygments_lexer": "ipython3",
   "version": "3.9.5"
  }
 },
 "nbformat": 4,
 "nbformat_minor": 5
}
