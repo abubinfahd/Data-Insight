{
  "nbformat": 4,
  "nbformat_minor": 0,
  "metadata": {
    "colab": {
      "name": "Machine Learning: Feature Creation & Extraction in Python.ipynb",
      "provenance": []
    },
    "kernelspec": {
      "name": "python3",
      "display_name": "Python 3"
    },
    "language_info": {
      "name": "python"
    }
  },
  "cells": [
    {
      "cell_type": "markdown",
      "source": [
        "# Machine Learning: Feature Creation & Extraction in Python"
      ],
      "metadata": {
        "id": "FiKoPXbVOdUf"
      }
    },
    {
      "cell_type": "markdown",
      "source": [
        "### What is feature engineering?\n",
        "Feature engineering is the process that takes raw data and transforms it into features that can be used to create a predictive model using machine learning or statistical modeling, such as deep learning."
      ],
      "metadata": {
        "id": "MT3ho5AlOgii"
      }
    },
    {
      "cell_type": "markdown",
      "source": [
        "### Differents types of data?\n",
        "- Continuous\n",
        "- Categorical\n",
        "- Ordinal\n",
        "- Boolean\n",
        "- Datetime"
      ],
      "metadata": {
        "id": "l8OTD-QSPuo4"
      }
    },
    {
      "cell_type": "markdown",
      "source": [
        "### Get to know your data"
      ],
      "metadata": {
        "id": "ZFD8APDoQDsz"
      }
    },
    {
      "cell_type": "code",
      "source": [
        "# Import pandas\n",
        "import pandas as pd\n",
        "\n",
        "# Import Combined_DS_v10.csv into so_survey_df\n",
        "so_survey_df = pd.read_csv(\"/content/Combined_DS_v10.csv\")\n",
        "\n",
        "# Print the first five rows of the DataFrame\n",
        "print(so_survey_df.head())\n",
        "\n",
        "# Print the data type of each column\n",
        "print(so_survey_df.dtypes)"
      ],
      "metadata": {
        "colab": {
          "base_uri": "https://localhost:8080/"
        },
        "id": "rQknpW8IQgJp",
        "outputId": "d2fe4fd9-e604-4eab-8c65-adb74754f617"
      },
      "execution_count": 1,
      "outputs": [
        {
          "output_type": "stream",
          "name": "stdout",
          "text": [
            "      SurveyDate                                    FormalEducation  \\\n",
            "0  2/28/18 20:20           Bachelor's degree (BA. BS. B.Eng.. etc.)   \n",
            "1  6/28/18 13:26           Bachelor's degree (BA. BS. B.Eng.. etc.)   \n",
            "2    6/6/18 3:37           Bachelor's degree (BA. BS. B.Eng.. etc.)   \n",
            "3    5/9/18 1:06  Some college/university study without earning ...   \n",
            "4  4/12/18 22:41           Bachelor's degree (BA. BS. B.Eng.. etc.)   \n",
            "\n",
            "   ConvertedSalary Hobby       Country  StackOverflowJobsRecommend  \\\n",
            "0              NaN   Yes  South Africa                         NaN   \n",
            "1          70841.0   Yes       Sweeden                         7.0   \n",
            "2              NaN    No       Sweeden                         8.0   \n",
            "3          21426.0   Yes       Sweeden                         NaN   \n",
            "4          41671.0   Yes            UK                         8.0   \n",
            "\n",
            "      VersionControl  Age  Years Experience Gender   RawSalary  \n",
            "0                Git   21                13   Male         NaN  \n",
            "1     Git;Subversion   38                 9   Male   70,841.00  \n",
            "2                Git   45                11    NaN         NaN  \n",
            "3  Zip file back-ups   46                12   Male   21,426.00  \n",
            "4                Git   39                 7   Male  £41,671.00  \n",
            "SurveyDate                     object\n",
            "FormalEducation                object\n",
            "ConvertedSalary               float64\n",
            "Hobby                          object\n",
            "Country                        object\n",
            "StackOverflowJobsRecommend    float64\n",
            "VersionControl                 object\n",
            "Age                             int64\n",
            "Years Experience                int64\n",
            "Gender                         object\n",
            "RawSalary                      object\n",
            "dtype: object\n"
          ]
        }
      ]
    },
    {
      "cell_type": "markdown",
      "source": [
        "### Selecting specific data types\n",
        "Often a dataset will contain columns with several different data types (like the one you are working with). The majority of machine learning models require you to have a consistent data type across features. Similarly, most feature engineering techniques are applicable to only one type of data at a time. For these reasons among others, you will often want to be able to access just the columns of certain types when working with a DataFrame."
      ],
      "metadata": {
        "id": "37LnxQXQRHLJ"
      }
    },
    {
      "cell_type": "code",
      "source": [
        "# Create subset of only the numeric columns\n",
        "so_numeric_df = so_survey_df.select_dtypes(include=['int', 'float'])\n",
        "\n",
        "# Print the column names contained in so_survey_df_num\n",
        "print(so_numeric_df.columns)"
      ],
      "metadata": {
        "colab": {
          "base_uri": "https://localhost:8080/"
        },
        "id": "vM4dEZ_QRZbP",
        "outputId": "6ec58eaf-a396-44bd-d2c2-40221e8a9bd7"
      },
      "execution_count": 2,
      "outputs": [
        {
          "output_type": "stream",
          "name": "stdout",
          "text": [
            "Index(['ConvertedSalary', 'StackOverflowJobsRecommend', 'Age',\n",
            "       'Years Experience'],\n",
            "      dtype='object')\n"
          ]
        }
      ]
    },
    {
      "cell_type": "markdown",
      "source": [
        "## Dealing with Categorical variable\n",
        "### One-hot encoding and dummy variables\n",
        "To use categorical variables in a machine learning model, you first need to represent them in a quantitative way. The two most common approaches are to one-hot encode the variables using or to use dummy variables. "
      ],
      "metadata": {
        "id": "HrSBg--RRpGg"
      }
    },
    {
      "cell_type": "code",
      "source": [
        "# Convert the Country column to a one hot encoded Data Frame\n",
        "one_hot_encoded = pd.get_dummies(so_survey_df, columns=['Country'], prefix='OH')\n",
        "\n",
        "# Print the columns names\n",
        "print(one_hot_encoded.columns)"
      ],
      "metadata": {
        "colab": {
          "base_uri": "https://localhost:8080/"
        },
        "id": "PkfTxY_cR3AM",
        "outputId": "504a487e-f335-457d-a81e-128d763bc559"
      },
      "execution_count": 3,
      "outputs": [
        {
          "output_type": "stream",
          "name": "stdout",
          "text": [
            "Index(['SurveyDate', 'FormalEducation', 'ConvertedSalary', 'Hobby',\n",
            "       'StackOverflowJobsRecommend', 'VersionControl', 'Age',\n",
            "       'Years Experience', 'Gender', 'RawSalary', 'OH_France', 'OH_India',\n",
            "       'OH_Ireland', 'OH_Russia', 'OH_South Africa', 'OH_Spain', 'OH_Sweeden',\n",
            "       'OH_UK', 'OH_USA', 'OH_Ukraine'],\n",
            "      dtype='object')\n"
          ]
        }
      ]
    },
    {
      "cell_type": "code",
      "source": [
        "# Create dummy variables for the Country column\n",
        "dummy = pd.get_dummies(so_survey_df, columns=['Country'], drop_first=True, prefix='DM')\n",
        "\n",
        "# Print the columns names\n",
        "print(dummy.columns)"
      ],
      "metadata": {
        "colab": {
          "base_uri": "https://localhost:8080/"
        },
        "id": "GD7euK0dSLsb",
        "outputId": "0b16cd00-26d7-412a-d28e-6275db0ba603"
      },
      "execution_count": 4,
      "outputs": [
        {
          "output_type": "stream",
          "name": "stdout",
          "text": [
            "Index(['SurveyDate', 'FormalEducation', 'ConvertedSalary', 'Hobby',\n",
            "       'StackOverflowJobsRecommend', 'VersionControl', 'Age',\n",
            "       'Years Experience', 'Gender', 'RawSalary', 'DM_India', 'DM_Ireland',\n",
            "       'DM_Russia', 'DM_South Africa', 'DM_Spain', 'DM_Sweeden', 'DM_UK',\n",
            "       'DM_USA', 'DM_Ukraine'],\n",
            "      dtype='object')\n"
          ]
        }
      ]
    },
    {
      "cell_type": "markdown",
      "source": [
        "### Dealing with uncommon categories"
      ],
      "metadata": {
        "id": "VQPItpPgSmgA"
      }
    },
    {
      "cell_type": "code",
      "source": [
        "# Create a series out of the Country column\n",
        "countries = so_survey_df['Country']\n",
        "\n",
        "# Get the counts of each category\n",
        "country_counts = countries.value_counts()\n",
        "\n",
        "# Create a mask for only categories that occur less than 10 times\n",
        "mask = countries.isin(country_counts[country_counts < 10].index)\n",
        "\n",
        "# Label all other categories as Other\n",
        "countries[mask] = 'Other'\n",
        "\n",
        "# Print the updated category counts\n",
        "print(pd.value_counts(countries))"
      ],
      "metadata": {
        "colab": {
          "base_uri": "https://localhost:8080/"
        },
        "id": "G7qYp8ufSoQp",
        "outputId": "55835926-1f75-4645-a944-af845125f1a1"
      },
      "execution_count": 5,
      "outputs": [
        {
          "output_type": "stream",
          "name": "stdout",
          "text": [
            "South Africa    166\n",
            "USA             164\n",
            "Spain           134\n",
            "Sweeden         119\n",
            "France          115\n",
            "Russia           97\n",
            "UK               95\n",
            "India            95\n",
            "Other            14\n",
            "Name: Country, dtype: int64\n"
          ]
        },
        {
          "output_type": "stream",
          "name": "stderr",
          "text": [
            "/usr/local/lib/python3.7/dist-packages/ipykernel_launcher.py:11: SettingWithCopyWarning: \n",
            "A value is trying to be set on a copy of a slice from a DataFrame\n",
            "\n",
            "See the caveats in the documentation: https://pandas.pydata.org/pandas-docs/stable/user_guide/indexing.html#returning-a-view-versus-a-copy\n",
            "  # This is added back by InteractiveShellApp.init_path()\n"
          ]
        }
      ]
    },
    {
      "cell_type": "markdown",
      "source": [
        "## Numeric:Binarizing Columns\n",
        "While numeric values can often be used without any feature engineering, there will be cases when some form of manipulation can be useful"
      ],
      "metadata": {
        "id": "2UCndYcvS7FW"
      }
    },
    {
      "cell_type": "code",
      "source": [
        "so_survey_df[\"ConvertedSalary\"].fillna(0, inplace=True)\n",
        "# Create the Paid_Job column filled with zeros\n",
        "so_survey_df['Paid_Job'] = 0\n",
        "\n",
        "# Replace all the Paid_Job values where ConvertedSalary is > 0\n",
        "so_survey_df.loc[so_survey_df['ConvertedSalary'] > 0, 'Paid_Job'] = 1\n",
        "\n",
        "# Print the first five rows of the columns\n",
        "print(so_survey_df[['Paid_Job', 'ConvertedSalary']].head())"
      ],
      "metadata": {
        "colab": {
          "base_uri": "https://localhost:8080/"
        },
        "id": "dyFd4M0ZTFzJ",
        "outputId": "45248c36-f504-4abc-c519-b23c6f0149ae"
      },
      "execution_count": 6,
      "outputs": [
        {
          "output_type": "stream",
          "name": "stdout",
          "text": [
            "   Paid_Job  ConvertedSalary\n",
            "0         0              0.0\n",
            "1         1          70841.0\n",
            "2         0              0.0\n",
            "3         1          21426.0\n",
            "4         1          41671.0\n"
          ]
        }
      ]
    },
    {
      "cell_type": "markdown",
      "source": [
        "# Binning values\n",
        "For many continuous values you will care less about the exact value of a numeric column, but instead care about the bucket it falls into."
      ],
      "metadata": {
        "id": "HT750t50T5mA"
      }
    },
    {
      "cell_type": "code",
      "source": [
        "# Bin the continuous variable ConvertedSalary into 5 bins\n",
        "so_survey_df['equal_binned'] = pd.cut(so_survey_df['ConvertedSalary'], 5)\n",
        "\n",
        "# Print the first 5 rows of the equal_binned column\n",
        "print(so_survey_df[['equal_binned', 'ConvertedSalary']].head())"
      ],
      "metadata": {
        "colab": {
          "base_uri": "https://localhost:8080/"
        },
        "id": "tUKTEHCxT4wY",
        "outputId": "58c4a1bb-b2ae-43ee-fb2a-74eba1c5f9af"
      },
      "execution_count": 7,
      "outputs": [
        {
          "output_type": "stream",
          "name": "stdout",
          "text": [
            "          equal_binned  ConvertedSalary\n",
            "0  (-2000.0, 400000.0]              0.0\n",
            "1  (-2000.0, 400000.0]          70841.0\n",
            "2  (-2000.0, 400000.0]              0.0\n",
            "3  (-2000.0, 400000.0]          21426.0\n",
            "4  (-2000.0, 400000.0]          41671.0\n"
          ]
        }
      ]
    },
    {
      "cell_type": "code",
      "source": [
        "# Bin the ConvertedSalary column using the boundaries in the list bins and label the bins using labels\n",
        "# Import numpy\n",
        "import numpy as np\n",
        "\n",
        "# Specify the boundaries of the bins\n",
        "bins = [-np.inf, 10000, 50000, 100000, 150000, np.inf]\n",
        "\n",
        "# Bin labels\n",
        "labels = ['Very low', 'Low', 'Medium', 'High', 'Very high']\n",
        "\n",
        "# Bin the continuous variable ConvertedSalary using these boundaries\n",
        "so_survey_df['boundary_binned'] = pd.cut(so_survey_df['ConvertedSalary'], bins=bins, labels=labels)\n",
        "\n",
        "# Print the first 5 rows of the boundary_binned column\n",
        "print(so_survey_df[['boundary_binned', 'ConvertedSalary']].head())"
      ],
      "metadata": {
        "colab": {
          "base_uri": "https://localhost:8080/"
        },
        "id": "hKdIrmPFUXUx",
        "outputId": "2f84d1e5-abae-41ac-d855-ba016411ef5e"
      },
      "execution_count": 8,
      "outputs": [
        {
          "output_type": "stream",
          "name": "stdout",
          "text": [
            "  boundary_binned  ConvertedSalary\n",
            "0        Very low              0.0\n",
            "1          Medium          70841.0\n",
            "2        Very low              0.0\n",
            "3             Low          21426.0\n",
            "4             Low          41671.0\n"
          ]
        }
      ]
    }
  ]
}