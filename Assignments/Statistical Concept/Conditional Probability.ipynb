{
 "cells": [
  {
   "cell_type": "markdown",
   "id": "7b08e171",
   "metadata": {},
   "source": [
    "# Conditional Probability"
   ]
  },
  {
   "cell_type": "markdown",
   "id": "c9a2c843",
   "metadata": {},
   "source": [
    "Conditional probability is defined as the likelihood of an event or outcome occurring, based on the occurrence of a previous event or outcome. Conditional probability is calculated by multiplying the probability of the preceding event by the updated probability of the succeeding, or conditional, event."
   ]
  },
  {
   "cell_type": "markdown",
   "id": "59e48b17",
   "metadata": {},
   "source": [
    "### A certain airline offers flights departing to New York on Tuesdays and Fridays, but sometimes the flights are delayed:"
   ]
  },
  {
   "cell_type": "markdown",
   "id": "83a8e9a7",
   "metadata": {},
   "source": [
    "![](image2.png)"
   ]
  },
  {
   "cell_type": "code",
   "execution_count": 1,
   "id": "02f57175",
   "metadata": {},
   "outputs": [
    {
     "name": "stdout",
     "output_type": "stream",
     "text": [
      "0.8731884057971014\n"
     ]
    }
   ],
   "source": [
    "# What is the probability of a flight being on time?\n",
    "\n",
    "# Needed quantities\n",
    "On_time = 241\n",
    "Total_departures = 276\n",
    "\n",
    "# Probability calculation\n",
    "P_On_time = On_time / Total_departures\n",
    "\n",
    "print(P_On_time)"
   ]
  },
  {
   "cell_type": "code",
   "execution_count": 2,
   "id": "390d7cd4",
   "metadata": {},
   "outputs": [
    {
     "name": "stdout",
     "output_type": "stream",
     "text": [
      "0.12681159420289856\n"
     ]
    }
   ],
   "source": [
    "# Every departure is on time with probability P_On_time. What is the probability of a flight being delayed?\n",
    "\n",
    "# Needed quantities\n",
    "P_On_time = 241 / 276\n",
    "\n",
    "# Probability calculation\n",
    "P_Delayed = 1 - P_On_time\n",
    "\n",
    "print(P_Delayed)"
   ]
  },
  {
   "cell_type": "code",
   "execution_count": 3,
   "id": "758790ac",
   "metadata": {},
   "outputs": [
    {
     "name": "stdout",
     "output_type": "stream",
     "text": [
      "0.17391304347826086\n"
     ]
    }
   ],
   "source": [
    "# Given that it's Tuesday, what is the probability of a flight being delayed (P(Delayed|Tuesday))?\n",
    "\n",
    "# Needed quantities\n",
    "Delayed_on_Tuesday = 24\n",
    "On_Tuesday = 138\n",
    "\n",
    "# Probability calculation\n",
    "P_Delayed_g_Tuesday = Delayed_on_Tuesday / On_Tuesday\n",
    "\n",
    "print(P_Delayed_g_Tuesday)"
   ]
  },
  {
   "cell_type": "code",
   "execution_count": 4,
   "id": "c92c9b71",
   "metadata": {},
   "outputs": [
    {
     "name": "stdout",
     "output_type": "stream",
     "text": [
      "0.07971014492753623\n"
     ]
    }
   ],
   "source": [
    "# Given that it's Friday, what is the probability of a flight being delayed (P(Delayed|Friday))?\n",
    "\n",
    "# Needed quantities\n",
    "Delayed_on_Friday = 11\n",
    "On_Friday = 138\n",
    "\n",
    "# Probability calculation\n",
    "P_Delayed_g_Friday = Delayed_on_Friday / On_Friday\n",
    "\n",
    "print(P_Delayed_g_Friday)"
   ]
  },
  {
   "cell_type": "markdown",
   "id": "f4582ba4",
   "metadata": {},
   "source": [
    "### The following table shows the numbers of red and black cards in a deck that are Aces and non-Aces:"
   ]
  },
  {
   "cell_type": "markdown",
   "id": "6bfb5218",
   "metadata": {},
   "source": [
    "![](image3.png)"
   ]
  },
  {
   "cell_type": "code",
   "execution_count": 5,
   "id": "3a4adc7a",
   "metadata": {},
   "outputs": [
    {
     "name": "stdout",
     "output_type": "stream",
     "text": [
      "0.07692307692307693\n"
     ]
    }
   ],
   "source": [
    "# Calculate P(Ace|Red).\n",
    "\n",
    "# Individual probabilities\n",
    "P_Red = 26/52\n",
    "P_Red_n_Ace = 2/52\n",
    "\n",
    "# Conditional probability calculation\n",
    "P_Ace_given_Red = P_Red_n_Ace / P_Red\n",
    "\n",
    "print(P_Ace_given_Red)"
   ]
  },
  {
   "cell_type": "code",
   "execution_count": 6,
   "id": "0a130666",
   "metadata": {},
   "outputs": [
    {
     "name": "stdout",
     "output_type": "stream",
     "text": [
      "0.5\n"
     ]
    }
   ],
   "source": [
    "# Calculate P(Black|Ace).\n",
    "\n",
    "# Individual probabilities\n",
    "P_Ace = 4/52\n",
    "P_Ace_n_Black = 2/52\n",
    "\n",
    "# Conditional probability calculation\n",
    "P_Black_given_Ace = P_Ace_n_Black / P_Ace\n",
    "\n",
    "print(P_Black_given_Ace)"
   ]
  },
  {
   "cell_type": "code",
   "execution_count": 7,
   "id": "b56b4038",
   "metadata": {},
   "outputs": [
    {
     "name": "stdout",
     "output_type": "stream",
     "text": [
      "0.9230769230769231\n"
     ]
    }
   ],
   "source": [
    "# Calculate P(Non Ace|Black).\n",
    "\n",
    "# Individual probabilities\n",
    "P_Black = 26/52\n",
    "P_Black_n_Non_ace = 24/52\n",
    "\n",
    "# Conditional probability calculation\n",
    "P_Non_ace_given_Black = P_Black_n_Non_ace / P_Black\n",
    "\n",
    "print(P_Non_ace_given_Black)"
   ]
  },
  {
   "cell_type": "code",
   "execution_count": 8,
   "id": "3c77aaca",
   "metadata": {},
   "outputs": [
    {
     "name": "stdout",
     "output_type": "stream",
     "text": [
      "0.5\n"
     ]
    }
   ],
   "source": [
    "# Calculate P(Red|Non Ace).\n",
    "\n",
    "# Individual probabilities\n",
    "P_Non_ace = 48/52\n",
    "P_Non_ace_n_Red = 24/52\n",
    "\n",
    "# Conditional probability calculation\n",
    "P_Red_given_Non_ace = P_Non_ace_n_Red / P_Non_ace\n",
    "\n",
    "print(P_Red_given_Non_ace)"
   ]
  },
  {
   "cell_type": "code",
   "execution_count": null,
   "id": "9110585b",
   "metadata": {},
   "outputs": [],
   "source": []
  }
 ],
 "metadata": {
  "kernelspec": {
   "display_name": "Python 3 (ipykernel)",
   "language": "python",
   "name": "python3"
  },
  "language_info": {
   "codemirror_mode": {
    "name": "ipython",
    "version": 3
   },
   "file_extension": ".py",
   "mimetype": "text/x-python",
   "name": "python",
   "nbconvert_exporter": "python",
   "pygments_lexer": "ipython3",
   "version": "3.9.7"
  }
 },
 "nbformat": 4,
 "nbformat_minor": 5
}
