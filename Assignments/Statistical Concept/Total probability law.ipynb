{
 "cells": [
  {
   "cell_type": "markdown",
   "id": "301f9ab1",
   "metadata": {},
   "source": [
    "# Total probability law"
   ]
  },
  {
   "cell_type": "markdown",
   "id": "7ae8e197",
   "metadata": {},
   "source": [
    "The total probability law allows you to calculate probabilities under some condition.<br>\n",
    "The total probability law state that the probability of an event in a non-overlapping partitioned spaces is the sum of the probabilities of such an event in each partition."
   ]
  },
  {
   "cell_type": "markdown",
   "id": "f8885099",
   "metadata": {},
   "source": [
    "01. Suppose that two manufacturers, A and B, supply the engines for Formula 1 racing cars, with the following characteristics:\n",
    "\n",
    "- 99% of the engines from factory A last more than 5,000 km.<br>\n",
    "- Factory B manufactures engines that last more than 5,000 km with 95% probability.<br>\n",
    "- 70% of the engines are from manufacturer A, and the rest are produced by manufacturer B.<br>"
   ]
  },
  {
   "cell_type": "code",
   "execution_count": 1,
   "id": "fc8dd880",
   "metadata": {},
   "outputs": [
    {
     "name": "stdout",
     "output_type": "stream",
     "text": [
      "0.978\n"
     ]
    }
   ],
   "source": [
    "# What is the chance that an engine will last more than 5,000 km?\n",
    "# Needed probabilities\n",
    "P_A = 0.7\n",
    "P_last5000_g_A = 0.99\n",
    "P_B = 0.3\n",
    "P_last5000_g_B = 0.95\n",
    "\n",
    "# Total probability calculation\n",
    "P_last_5000 = P_A * P_last5000_g_A + P_B * P_last5000_g_B\n",
    "\n",
    "print(P_last_5000)"
   ]
  },
  {
   "cell_type": "markdown",
   "id": "32fc95f2",
   "metadata": {},
   "source": [
    "02. Of the total population of three states X, Y, and Z, 43% are from state X, 25% are from state Y, and 32% are from state Z. A poll is taken and the result is the following:\n",
    "\n",
    "- 53% of the voters support John Doe in state X.<br>\n",
    "- 67% of the voters support John Doe in state Y.<br>\n",
    "- 32% of the voters support John Doe in state Z.<br>\n",
    "- Given that a voter supports John Doe, answer the following questions."
   ]
  },
  {
   "cell_type": "code",
   "execution_count": 2,
   "id": "0d467702",
   "metadata": {},
   "outputs": [
    {
     "name": "stdout",
     "output_type": "stream",
     "text": [
      "0.22790000000000002\n"
     ]
    }
   ],
   "source": [
    "# What is the probability that the voter lives in state X and supports John Doe?\n",
    "# Individual probabilities\n",
    "P_X = 0.43\n",
    "\n",
    "# Conditional probabilities\n",
    "P_Support_g_X = 0.53\n",
    "\n",
    "# Total probability calculation\n",
    "P_X_n_Support = P_X * P_Support_g_X\n",
    "print(P_X_n_Support)"
   ]
  },
  {
   "cell_type": "code",
   "execution_count": 3,
   "id": "66091945",
   "metadata": {},
   "outputs": [
    {
     "name": "stdout",
     "output_type": "stream",
     "text": [
      "0.2176\n"
     ]
    }
   ],
   "source": [
    "# What is the probability that the voter lives in state Z and does not support John Doe?\n",
    "# Individual probabilities\n",
    "P_Z = 0.32\n",
    "\n",
    "# Conditional probabilities\n",
    "P_Support_g_Z = 0.32\n",
    "P_NoSupport_g_Z = 1 - P_Support_g_Z\n",
    "\n",
    "# Total probability calculation\n",
    "P_Z_n_NoSupport = P_Z * P_NoSupport_g_Z\n",
    "print(P_Z_n_NoSupport)"
   ]
  },
  {
   "cell_type": "code",
   "execution_count": 4,
   "id": "5833031f",
   "metadata": {},
   "outputs": [
    {
     "name": "stdout",
     "output_type": "stream",
     "text": [
      "0.4978\n"
     ]
    }
   ],
   "source": [
    "# What is the total percentage of voters that support John Doe?\n",
    "# Individual probabilities\n",
    "P_X = 0.43\n",
    "P_Y = 0.25\n",
    "P_Z = 0.32\n",
    "\n",
    "# Conditional probabilities\n",
    "P_Support_g_X = 0.53\n",
    "P_Support_g_Y = 0.67\n",
    "P_Support_g_Z = 0.32\n",
    "\n",
    "# Total probability calculation\n",
    "P_Support = P_X * P_Support_g_X + P_Y * P_Support_g_Y + P_Z * P_Support_g_Z\n",
    "print(P_Support)"
   ]
  },
  {
   "cell_type": "code",
   "execution_count": null,
   "id": "1ad7ba98",
   "metadata": {},
   "outputs": [],
   "source": []
  }
 ],
 "metadata": {
  "kernelspec": {
   "display_name": "Python 3 (ipykernel)",
   "language": "python",
   "name": "python3"
  },
  "language_info": {
   "codemirror_mode": {
    "name": "ipython",
    "version": 3
   },
   "file_extension": ".py",
   "mimetype": "text/x-python",
   "name": "python",
   "nbconvert_exporter": "python",
   "pygments_lexer": "ipython3",
   "version": "3.9.7"
  }
 },
 "nbformat": 4,
 "nbformat_minor": 5
}
