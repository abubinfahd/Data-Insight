{
 "cells": [
  {
   "cell_type": "code",
   "execution_count": 1,
   "id": "d1f7eb45",
   "metadata": {},
   "outputs": [],
   "source": [
    "import numpy as np\n",
    "from scipy.stats import binom\n",
    "from scipy.stats import find_repeats"
   ]
  },
  {
   "cell_type": "markdown",
   "id": "d99964fe",
   "metadata": {},
   "source": [
    "The sample_of_two_coin_flips has 1,000 experiments, each consisting of two fair coin flips. For each experiment, we record the number of heads out of the two coin flips: 0, 1, or 2."
   ]
  },
  {
   "cell_type": "code",
   "execution_count": 2,
   "id": "84d6452e",
   "metadata": {},
   "outputs": [],
   "source": [
    "sample_of_two_coin_flips = binom.rvs(n=2, p=0.5, size=1000, random_state=1)"
   ]
  },
  {
   "cell_type": "markdown",
   "id": "e7131dbf",
   "metadata": {},
   "source": [
    "We can found how many time each outcome repeats using the function <b>find_repeats</b>"
   ]
  },
  {
   "cell_type": "code",
   "execution_count": 3,
   "id": "cc3f3afc",
   "metadata": {},
   "outputs": [
    {
     "name": "stdout",
     "output_type": "stream",
     "text": [
      "0.254\n"
     ]
    }
   ],
   "source": [
    "# From the provided samples in sample_of_two_coin_flips, get the probability of having 2 heads out of the 1,000 trials.\n",
    "# Count how many times you got 2 heads from the sample data\n",
    "count_2_heads = find_repeats(sample_of_two_coin_flips).counts[2]\n",
    "\n",
    "# Divide the number of heads by the total number of draws\n",
    "prob_2_heads = count_2_heads / 1000\n",
    "\n",
    "# Display the result\n",
    "print(prob_2_heads)"
   ]
  },
  {
   "cell_type": "markdown",
   "id": "5eb9b7b4",
   "metadata": {},
   "source": [
    "### Joint Probabilities"
   ]
  },
  {
   "cell_type": "markdown",
   "id": "e88dc0e2",
   "metadata": {},
   "source": [
    "![](Image.jpg)"
   ]
  },
  {
   "cell_type": "code",
   "execution_count": 4,
   "id": "e8b92112",
   "metadata": {},
   "outputs": [
    {
     "name": "stdout",
     "output_type": "stream",
     "text": [
      "0.98505\n"
     ]
    }
   ],
   "source": [
    "# Calculate the probability that the engine and gear box both work.\n",
    "# Individual probabilities\n",
    "P_Eng_works = 0.99\n",
    "P_GearB_works = 0.995\n",
    "\n",
    "# Joint probability calculation\n",
    "P_both_works = P_Eng_works*P_GearB_works\n",
    "\n",
    "print(P_both_works)"
   ]
  },
  {
   "cell_type": "code",
   "execution_count": 5,
   "id": "ab099528",
   "metadata": {},
   "outputs": [
    {
     "name": "stdout",
     "output_type": "stream",
     "text": [
      "0.0149\n"
     ]
    }
   ],
   "source": [
    "# Calculate the probability that one fails -- either engine or gear box -- but not both.\n",
    "# Individual probabilities\n",
    "P_Eng_fails = 0.01\n",
    "P_Eng_works = 0.99\n",
    "P_GearB_fails = 0.005\n",
    "P_GearB_works = 0.995\n",
    "\n",
    "# Joint probability calculation\n",
    "P_only_GearB_fails = P_GearB_fails * P_Eng_works\n",
    "P_only_Eng_fails = P_Eng_fails * P_GearB_works\n",
    "\n",
    "# Calculate result\n",
    "P_one_fails = P_only_GearB_fails + P_only_Eng_fails\n",
    "\n",
    "print(P_one_fails)"
   ]
  },
  {
   "cell_type": "code",
   "execution_count": 6,
   "id": "a8e80eee",
   "metadata": {},
   "outputs": [
    {
     "name": "stdout",
     "output_type": "stream",
     "text": [
      "0.9851\n"
     ]
    }
   ],
   "source": [
    "# What is the probability that either both work or both fail?\n",
    "# Individual probabilities\n",
    "P_Eng_fails = 0.01\n",
    "P_Eng_works = 0.99\n",
    "P_GearB_fails = 0.005\n",
    "P_GearB_works = 0.995\n",
    "\n",
    "# Joint probability calculation\n",
    "P_EngW_GearBW = P_Eng_works * P_GearB_works\n",
    "P_EngF_GearBF = P_Eng_fails * P_GearB_fails\n",
    "\n",
    "# Calculate result\n",
    "P_fails_or_works = P_EngW_GearBW + P_EngF_GearBF\n",
    "\n",
    "print(P_fails_or_works)"
   ]
  },
  {
   "cell_type": "markdown",
   "id": "b4919fbf",
   "metadata": {},
   "source": [
    "### Deck of cards"
   ]
  },
  {
   "cell_type": "markdown",
   "id": "cb4f412c",
   "metadata": {},
   "source": [
    "![](cards.png)"
   ]
  },
  {
   "cell_type": "code",
   "execution_count": 7,
   "id": "cad5b6c5",
   "metadata": {},
   "outputs": [
    {
     "name": "stdout",
     "output_type": "stream",
     "text": [
      "0.9230769230769231\n"
     ]
    }
   ],
   "source": [
    "# Calculate the probability of not getting an Ace.\n",
    "P_Ace = 4/52\n",
    "\n",
    "# Not Ace probability\n",
    "P_not_Ace = 1 - P_Ace\n",
    "\n",
    "print(P_not_Ace)"
   ]
  },
  {
   "cell_type": "code",
   "execution_count": 8,
   "id": "fc222718",
   "metadata": {},
   "outputs": [
    {
     "name": "stdout",
     "output_type": "stream",
     "text": [
      "0.5\n"
     ]
    }
   ],
   "source": [
    "# Calculate the probability of getting a red card.\n",
    "# Figure probabilities\n",
    "P_Hearts = 13/52\n",
    "P_Diamonds = 13/52\n",
    "\n",
    "# Probability of red calculation\n",
    "P_Red = P_Hearts + P_Diamonds\n",
    "\n",
    "print(P_Red)"
   ]
  },
  {
   "cell_type": "code",
   "execution_count": 9,
   "id": "7740fe97",
   "metadata": {},
   "outputs": [
    {
     "name": "stdout",
     "output_type": "stream",
     "text": [
      "0.3076923076923077\n"
     ]
    }
   ],
   "source": [
    "# Calculate the probability of getting a Jack or a spade.\n",
    "# Figure probabilities\n",
    "P_Jack = 4/52\n",
    "P_Spade = 13/52\n",
    "\n",
    "# Joint probability\n",
    "P_Jack_n_Spade = 1/52\n",
    "\n",
    "# Probability of Jack or spade\n",
    "P_Jack_or_Spade = P_Jack + P_Spade - P_Jack_n_Spade\n",
    "\n",
    "print(P_Jack_or_Spade)"
   ]
  },
  {
   "cell_type": "code",
   "execution_count": 10,
   "id": "5885fa4e",
   "metadata": {},
   "outputs": [
    {
     "name": "stdout",
     "output_type": "stream",
     "text": [
      "0.15384615384615385\n"
     ]
    }
   ],
   "source": [
    "# Calculate the probability of getting a King or a Queen.\n",
    "# Figure probabilities\n",
    "P_King = 4/52\n",
    "P_Queen = 4/52\n",
    "\n",
    "# Joint probability\n",
    "P_King_n_Queen = 0\n",
    "\n",
    "# Probability of King or Queen\n",
    "P_King_or_Queen = P_King + P_Queen - P_King_n_Queen\n",
    "\n",
    "print(P_King_or_Queen)"
   ]
  }
 ],
 "metadata": {
  "kernelspec": {
   "display_name": "Python 3 (ipykernel)",
   "language": "python",
   "name": "python3"
  },
  "language_info": {
   "codemirror_mode": {
    "name": "ipython",
    "version": 3
   },
   "file_extension": ".py",
   "mimetype": "text/x-python",
   "name": "python",
   "nbconvert_exporter": "python",
   "pygments_lexer": "ipython3",
   "version": "3.9.7"
  }
 },
 "nbformat": 4,
 "nbformat_minor": 5
}
