{
 "cells": [
  {
   "cell_type": "markdown",
   "id": "3f8f714e",
   "metadata": {},
   "source": [
    "# Statistical Concept"
   ]
  },
  {
   "cell_type": "code",
   "execution_count": 1,
   "id": "20ff4adb",
   "metadata": {},
   "outputs": [],
   "source": [
    "# Import necessary libries\n",
    "import pandas as pd\n",
    "import numpy as np\n",
    "import matplotlib.pyplot as plt\n",
    "from scipy.stats import norm\n",
    "import seaborn as sns"
   ]
  },
  {
   "cell_type": "markdown",
   "id": "58ce9a25",
   "metadata": {},
   "source": [
    "## 01. Population and Sample"
   ]
  },
  {
   "cell_type": "markdown",
   "id": "3c524f5b",
   "metadata": {},
   "source": [
    "A population is the entire group that you want to draw conclusions about. A sample is the specific group that you will collect data from. The size of the sample is always less than the total size of the population. In research, a population doesn't always refer to people."
   ]
  },
  {
   "cell_type": "markdown",
   "id": "f0a9b7d7",
   "metadata": {},
   "source": [
    "<img src=\"Images/PS.png\" \n",
    "     width=\"500\"\n",
    "     align=\"left\"/>"
   ]
  },
  {
   "cell_type": "markdown",
   "id": "2cd9bac1",
   "metadata": {},
   "source": [
    "## 02. Normal Distribution"
   ]
  },
  {
   "cell_type": "markdown",
   "id": "a5c2c0ef",
   "metadata": {},
   "source": [
    "Normal distribution, also known as the Gaussian distribution, is a probability distribution that is symmetric about the mean, showing that data near the mean are more frequent in occurrence than data far from the mean. In graph form, normal distribution will appear as a bell curve."
   ]
  },
  {
   "cell_type": "markdown",
   "id": "edbbf413",
   "metadata": {},
   "source": [
    "### Plotting normal distributions\n",
    "A certain restaurant chain has been collecting data about customer spending. The data shows that the spending is approximately normally distributed, with a mean of 3.15 dollars and a standarddeviation of 1.50 dollars per customer."
   ]
  },
  {
   "cell_type": "code",
   "execution_count": 2,
   "id": "d2cce090",
   "metadata": {},
   "outputs": [
    {
     "data": {
      "image/png": "[encoded data removed]",
      "text/plain": [
       "<Figure size 432x288 with 1 Axes>"
      ]
     },
     "metadata": {
      "needs_background": "light"
     },
     "output_type": "display_data"
    }
   ],
   "source": [
    "# Create the sample using norm.rvs()\n",
    "sample = norm.rvs(loc=3.15, scale=1.5, size=10000, random_state=13)\n",
    "\n",
    "# Plot the sample\n",
    "sns.histplot(sample)\n",
    "plt.show()"
   ]
  },
  {
   "cell_type": "markdown",
   "id": "781a53e8",
   "metadata": {},
   "source": [
    "## 03. Measures of central tendency"
   ]
  },
  {
   "cell_type": "markdown",
   "id": "8853a12c",
   "metadata": {},
   "source": [
    "- Mean\n",
    "- Median\n",
    "- Mode"
   ]
  },
  {
   "cell_type": "markdown",
   "id": "5bd8614c",
   "metadata": {},
   "source": [
    "###  Mean"
   ]
  },
  {
   "cell_type": "markdown",
   "id": "62485d83",
   "metadata": {},
   "source": [
    "The mean, or average, is calculated by adding up the scores and dividing the total by the number of scores. Consider the following number set: 3, 4, 6, 6, 8, 9, 11. The mean is calculated in the following manner:\n",
    "\n",
    "3 + 4 + 6 + 6 + 8 + 9 + 11 = 47<br>\n",
    "47 / 7 = 6.7<br>\n",
    "The mean (average) of the number set is 6.7."
   ]
  },
  {
   "cell_type": "markdown",
   "id": "dcf4e221",
   "metadata": {},
   "source": [
    "### Median"
   ]
  },
  {
   "cell_type": "markdown",
   "id": "c603aabb",
   "metadata": {},
   "source": [
    "The median is the middle score of a distribution. To calculate the median.<br>\n",
    "\n",
    "- Arrange your numbers in numerical order.\n",
    "- Count how many numbers you have.\n",
    "- If you have an odd number, divide by 2 and round up to get the position of the median number.\n",
    "- If you have an even number, divide by 2. Go to the number in that position and average it with the number in the next - -- higher position to get the median.\n",
    "Consider this set of numbers: 5, 7, 9, 9, 11. Since you have an odd number of scores, the median would be 9. You have five numbers, so you divide 5 by 2 to get 2.5, and round up to 3. The number in the third position is the median."
   ]
  },
  {
   "cell_type": "markdown",
   "id": "3dbc91be",
   "metadata": {},
   "source": [
    "### Mode"
   ]
  },
  {
   "cell_type": "markdown",
   "id": "2323f1cf",
   "metadata": {},
   "source": [
    "Since the mode is the most frequently occurring score in a distribution, simply select the most common score as your mode. Consider the following number distribution of 2, 3, 6, 3, 7, 5, 1, 2, 3, 9.\n",
    "\n",
    "The mode of these numbers would be 3 since three is the most frequently occurring number. In cases where you have a very large number of scores, creating a frequency distribution can be helpful in determining the mode."
   ]
  },
  {
   "cell_type": "code",
   "execution_count": 3,
   "id": "6e5f47b4",
   "metadata": {},
   "outputs": [
    {
     "name": "stdout",
     "output_type": "stream",
     "text": [
      "0    75.8\n",
      "dtype: float64\n",
      "0    76.0\n",
      "dtype: float64\n",
      "    0\n",
      "0  76\n"
     ]
    }
   ],
   "source": [
    "import pandas as pd\n",
    "A = [65,68,70,72,76,76,76,82,85,88] \n",
    "A = pd.DataFrame(A)\n",
    "a_mean = A.mean()\n",
    "a_median = A.median()\n",
    "a_mode = A.mode()\n",
    "print(a_mean)\n",
    "print(a_median)\n",
    "print(a_mode)"
   ]
  },
  {
   "cell_type": "markdown",
   "id": "2153036c",
   "metadata": {},
   "source": [
    "## 04. Central Limit Theorem"
   ]
  },
  {
   "cell_type": "markdown",
   "id": "f0db9af4",
   "metadata": {},
   "source": [
    "This sampling distribution more closely resembles the normal distribution. This phenonemon is known as Central Limit Theorem or CLT, Which states that a sampling distribution will approach a normal distribution as the number of trails increase."
   ]
  },
  {
   "cell_type": "code",
   "execution_count": 4,
   "id": "73a1e1a0",
   "metadata": {},
   "outputs": [
    {
     "name": "stdout",
     "output_type": "stream",
     "text": [
      "0    1\n",
      "1    2\n",
      "3    4\n",
      "3    4\n",
      "4    5\n",
      "dtype: int64\n"
     ]
    }
   ],
   "source": [
    "die = pd.Series([1, 2, 3, 4, 5, 6])\n",
    "# Roll 5 times\n",
    "samp_5 = die.sample(5, replace=True)\n",
    "print(samp_5)"
   ]
  },
  {
   "cell_type": "code",
   "execution_count": 5,
   "id": "11bd3252",
   "metadata": {},
   "outputs": [
    {
     "name": "stdout",
     "output_type": "stream",
     "text": [
      "[3.2, 3.4, 2.4, 3.8, 2.0, 3.0, 2.8, 3.2, 3.8, 2.4]\n"
     ]
    },
    {
     "data": {
      "image/png": "[encoded data removed]",
      "text/plain": [
       "<Figure size 432x288 with 1 Axes>"
      ]
     },
     "metadata": {
      "needs_background": "light"
     },
     "output_type": "display_data"
    }
   ],
   "source": [
    "# Rolling the dice 5 times 10 times\n",
    "sample_means = []\n",
    "for i in range(10):\n",
    "    samp_5 = die.sample(5, replace=True)\n",
    "    sample_means.append(np.mean(samp_5))\n",
    "print(sample_means)\n",
    "# Convert to Series and plot histogram\n",
    "sample_means_series = pd.Series(sample_means)\n",
    "sample_means_series.hist()\n",
    "# Show plot\n",
    "plt.show()"
   ]
  },
  {
   "cell_type": "code",
   "execution_count": 6,
   "id": "d4198d99",
   "metadata": {},
   "outputs": [
    {
     "data": {
      "image/png": "[encoded data removed]",
      "text/plain": [
       "<Figure size 432x288 with 1 Axes>"
      ]
     },
     "metadata": {
      "needs_background": "light"
     },
     "output_type": "display_data"
    }
   ],
   "source": [
    "# 100 sample means\n",
    "sample_means = []\n",
    "for i in range(100):\n",
    "    sample_means.append(np.mean(die.sample(5, replace=True)))\n",
    "# Convert to Series and plot histogram\n",
    "sample_means_series = pd.Series(sample_means)\n",
    "sample_means_series.hist()\n",
    "# Show plot\n",
    "plt.show()"
   ]
  },
  {
   "cell_type": "code",
   "execution_count": 7,
   "id": "d71479ad",
   "metadata": {},
   "outputs": [
    {
     "data": {
      "image/png": "[encoded data removed]",
      "text/plain": [
       "<Figure size 432x288 with 1 Axes>"
      ]
     },
     "metadata": {
      "needs_background": "light"
     },
     "output_type": "display_data"
    }
   ],
   "source": [
    "# 1000 sample means\n",
    "sample_means = []\n",
    "for i in range(1000):\n",
    "    sample_means.append(np.mean(die.sample(5, replace=True)))\n",
    "    \n",
    "# Convert to Series and plot histogram\n",
    "sample_means_series = pd.Series(sample_means)\n",
    "sample_means_series.hist()\n",
    "# Show plot\n",
    "plt.show()"
   ]
  },
  {
   "cell_type": "markdown",
   "id": "01226f5d",
   "metadata": {},
   "source": [
    "## 05. Bayes' rule "
   ]
  },
  {
   "cell_type": "markdown",
   "id": "df8789d0",
   "metadata": {},
   "source": [
    "Bayes' theorem, named after 18th-century British mathematician Thomas Bayes, is a mathematical formula for determining conditional probability. Conditional probability is the likelihood of an outcome occurring, based on a previous outcome occurring."
   ]
  },
  {
   "cell_type": "markdown",
   "id": "f8d58324",
   "metadata": {},
   "source": [
    "### Factories and parts\n",
    "A certain electronic part is manufactured by three different vendors named V1, V2, and V3.\n",
    "\n",
    "Half of the parts are produced by V1, 25% by V2, and the rest by V3. The probability of a part being damaged given that it was produced by V1 is 1%, while it's 2% for V2 and 3% for V3.\n",
    "\n",
    "If a part taken at random is damaged, answer the following questions."
   ]
  },
  {
   "cell_type": "code",
   "execution_count": 8,
   "id": "c41b6f5a",
   "metadata": {},
   "outputs": [
    {
     "name": "stdout",
     "output_type": "stream",
     "text": [
      "0.2857142857142857\n"
     ]
    }
   ],
   "source": [
    "# What is the probability that the part was manufactured by V1?\n",
    "# Individual probabilities & conditional probabilities\n",
    "P_V1 = 0.5\n",
    "P_V2 = 0.25\n",
    "P_V3 = 0.25\n",
    "P_D_g_V1 = 0.01\n",
    "P_D_g_V2 = 0.02\n",
    "P_D_g_V3 = 0.03\n",
    "\n",
    "# Probability of Damaged\n",
    "P_Damaged = (P_V1 * P_D_g_V1) + (P_V2 * P_D_g_V2) + (P_V3 * P_D_g_V3)\n",
    "\n",
    "# Bayes' rule for P(V1|D)\n",
    "P_V1_g_D = (P_V1 * P_D_g_V1) / P_Damaged\n",
    "\n",
    "print(P_V1_g_D)"
   ]
  },
  {
   "cell_type": "code",
   "execution_count": 9,
   "id": "a615b1a6",
   "metadata": {},
   "outputs": [
    {
     "name": "stdout",
     "output_type": "stream",
     "text": [
      "0.2857142857142857\n"
     ]
    }
   ],
   "source": [
    "# What is the probability that it was manufactured by V2?\n",
    "# Individual probabilities & conditional probabilities\n",
    "P_V1 = 0.5\n",
    "P_V2 = 0.25\n",
    "P_V3 = 0.25\n",
    "P_D_g_V1 = 0.01\n",
    "P_D_g_V2 = 0.02\n",
    "P_D_g_V3 = 0.03\n",
    "\n",
    "# Probability of Damaged\n",
    "P_Damaged = (P_V1 * P_D_g_V1) + (P_V2 * P_D_g_V2) + (P_V3 * P_D_g_V3)\n",
    "\n",
    "# Bayes' rule for P(V2|D)\n",
    "P_V2_g_D = (P_V2 * P_D_g_V2) / P_Damaged\n",
    "\n",
    "print(P_V2_g_D)"
   ]
  },
  {
   "cell_type": "markdown",
   "id": "40a234d1",
   "metadata": {},
   "source": [
    "## 06. Binomial Distribution"
   ]
  },
  {
   "cell_type": "markdown",
   "id": "3623ba0f",
   "metadata": {},
   "source": [
    "<b>binom.pmf()</b> calculates the probability of having exactly k heads out of n coin flips.<br>\n",
    "<b>binom.cdf()</b> calculates the probability of having k heads or less out of n coin flips.<br>\n",
    "<b>binom.sf()</b> calculates the probability of having more than k heads out of n coin flips.<br>"
   ]
  },
  {
   "cell_type": "markdown",
   "id": "922bc811",
   "metadata": {},
   "source": [
    "Consider a survey about employment that contains the question \"Are you employed?\" It is known that 65% of respondents will answer \"yes.\" Eight survey responses have been collected."
   ]
  },
  {
   "cell_type": "code",
   "execution_count": 10,
   "id": "7119d8fd",
   "metadata": {},
   "outputs": [
    {
     "name": "stdout",
     "output_type": "stream",
     "text": [
      "0.2785857790625\n",
      "0.8939090951171875\n",
      "0.8939090951171875\n"
     ]
    }
   ],
   "source": [
    "from scipy.stats import binom\n",
    "\n",
    "# Calculate the probability of getting exactly 5 yes responses\n",
    "prob_five_yes = binom.pmf(k=5, n=8, p=0.65)\n",
    "print(prob_five_yes)\n",
    "\n",
    "# Calculate the probability of getting 3 or less no responses\n",
    "prob_three_or_less_no = 1-binom.cdf(k=3, n=8, p=.65)\n",
    "print(prob_three_or_less_no)\n",
    "\n",
    "# Calculate the probability of getting more than 3 yes responses\n",
    "prob_more_than_three_yes = binom.sf(k=3, n=8, p=0.65)\n",
    "print(prob_more_than_three_yes)"
   ]
  },
  {
   "cell_type": "markdown",
   "id": "88ce1d7d",
   "metadata": {},
   "source": [
    "## 07. Calculation probabilities of two events"
   ]
  },
  {
   "cell_type": "code",
   "execution_count": 11,
   "id": "2e0f56ea",
   "metadata": {},
   "outputs": [],
   "source": [
    "from scipy.stats import binom\n",
    "from scipy.stats import find_repeats"
   ]
  },
  {
   "cell_type": "markdown",
   "id": "70f31299",
   "metadata": {},
   "source": [
    "The sample_of_two_coin_flips has 1,000 experiments, each consisting of two fair coin flips. For each experiment, we record the number of heads out of the two coin flips: 0, 1, or 2."
   ]
  },
  {
   "cell_type": "code",
   "execution_count": 12,
   "id": "b3f77813",
   "metadata": {},
   "outputs": [],
   "source": [
    "sample_of_two_coin_flips = binom.rvs(n=2, p=0.5, size=1000, random_state=1)"
   ]
  },
  {
   "cell_type": "code",
   "execution_count": 13,
   "id": "53ab3f6f",
   "metadata": {},
   "outputs": [
    {
     "name": "stdout",
     "output_type": "stream",
     "text": [
      "0.254\n"
     ]
    }
   ],
   "source": [
    "# We can found how many time each outcome repeats using the function find_repeats\n",
    "\n",
    "# From the provided samples in sample_of_two_coin_flips, get the probability of having 2 heads out of the 1,000 trials.\n",
    "# Count how many times you got 2 heads from the sample data\n",
    "count_2_heads = find_repeats(sample_of_two_coin_flips).counts[2]\n",
    "\n",
    "# Divide the number of heads by the total number of draws\n",
    "prob_2_heads = count_2_heads / 1000\n",
    "\n",
    "# Display the result\n",
    "print(prob_2_heads)"
   ]
  },
  {
   "cell_type": "markdown",
   "id": "2852dd5c",
   "metadata": {},
   "source": [
    "### Joint probabilities"
   ]
  },
  {
   "cell_type": "code",
   "execution_count": 14,
   "id": "cb55cd4f",
   "metadata": {},
   "outputs": [
    {
     "name": "stdout",
     "output_type": "stream",
     "text": [
      "0.98505\n"
     ]
    }
   ],
   "source": [
    "# Calculate the probability that the engine and gear box both work.\n",
    "# Individual probabilities\n",
    "P_Eng_works = 0.99\n",
    "P_GearB_works = 0.995\n",
    "\n",
    "# Joint probability calculation\n",
    "P_both_works = P_Eng_works*P_GearB_works\n",
    "\n",
    "print(P_both_works)"
   ]
  },
  {
   "cell_type": "code",
   "execution_count": 15,
   "id": "f07accf8",
   "metadata": {},
   "outputs": [
    {
     "name": "stdout",
     "output_type": "stream",
     "text": [
      "0.0149\n"
     ]
    }
   ],
   "source": [
    "# Calculate the probability that one fails -- either engine or gear box -- but not both.\n",
    "# Individual probabilities\n",
    "P_Eng_fails = 0.01\n",
    "P_Eng_works = 0.99\n",
    "P_GearB_fails = 0.005\n",
    "P_GearB_works = 0.995\n",
    "\n",
    "# Joint probability calculation\n",
    "P_only_GearB_fails = P_GearB_fails * P_Eng_works\n",
    "P_only_Eng_fails = P_Eng_fails * P_GearB_works\n",
    "\n",
    "# Calculate result\n",
    "P_one_fails = P_only_GearB_fails + P_only_Eng_fails\n",
    "\n",
    "print(P_one_fails)"
   ]
  },
  {
   "cell_type": "markdown",
   "id": "53e373d6",
   "metadata": {},
   "source": [
    "## 08. Conditional Probability"
   ]
  },
  {
   "cell_type": "markdown",
   "id": "601e60d3",
   "metadata": {},
   "source": [
    "Conditional probability is defined as the likelihood of an event or outcome occurring, based on the occurrence of a previous event or outcome. Conditional probability is calculated by multiplying the probability of the preceding event by the updated probability of the succeeding, or conditional, event."
   ]
  },
  {
   "cell_type": "markdown",
   "id": "6ad28fea",
   "metadata": {},
   "source": [
    "<b>A certain airline offers flights departing to New York on Tuesdays and Fridays, but sometimes the flights are delayed:</b>"
   ]
  },
  {
   "cell_type": "code",
   "execution_count": 16,
   "id": "37786dec",
   "metadata": {},
   "outputs": [
    {
     "name": "stdout",
     "output_type": "stream",
     "text": [
      "0.8731884057971014\n"
     ]
    }
   ],
   "source": [
    "# What is the probability of a flight being on time?\n",
    "\n",
    "# Needed quantities\n",
    "On_time = 241\n",
    "Total_departures = 276\n",
    "\n",
    "# Probability calculation\n",
    "P_On_time = On_time / Total_departures\n",
    "\n",
    "print(P_On_time)"
   ]
  },
  {
   "cell_type": "code",
   "execution_count": 17,
   "id": "269b2d71",
   "metadata": {},
   "outputs": [
    {
     "name": "stdout",
     "output_type": "stream",
     "text": [
      "0.12681159420289856\n"
     ]
    }
   ],
   "source": [
    "# Every departure is on time with probability P_On_time. What is the probability of a flight being delayed?\n",
    "\n",
    "# Needed quantities\n",
    "P_On_time = 241 / 276\n",
    "\n",
    "# Probability calculation\n",
    "P_Delayed = 1 - P_On_time\n",
    "\n",
    "print(P_Delayed)"
   ]
  },
  {
   "cell_type": "code",
   "execution_count": 18,
   "id": "60f86a75",
   "metadata": {},
   "outputs": [
    {
     "name": "stdout",
     "output_type": "stream",
     "text": [
      "0.17391304347826086\n"
     ]
    }
   ],
   "source": [
    "# Given that it's Tuesday, what is the probability of a flight being delayed (P(Delayed|Tuesday))?\n",
    "\n",
    "# Needed quantities\n",
    "Delayed_on_Tuesday = 24\n",
    "On_Tuesday = 138\n",
    "\n",
    "# Probability calculation\n",
    "P_Delayed_g_Tuesday = Delayed_on_Tuesday / On_Tuesday\n",
    "\n",
    "print(P_Delayed_g_Tuesday)"
   ]
  },
  {
   "cell_type": "markdown",
   "id": "8655415a",
   "metadata": {},
   "source": [
    "## 09. Total probability law"
   ]
  },
  {
   "cell_type": "markdown",
   "id": "d5ae487d",
   "metadata": {},
   "source": [
    "The total probability law allows you to calculate probabilities under some condition.<br>\n",
    "The total probability law state that the probability of an event in a non-overlapping partitioned spaces is the sum of the probabilities of such an event in each partition."
   ]
  },
  {
   "cell_type": "markdown",
   "id": "7eaffa26",
   "metadata": {},
   "source": [
    "01. Suppose that two manufacturers, A and B, supply the engines for Formula 1 racing cars, with the following characteristics:\n",
    "\n",
    "- 99% of the engines from factory A last more than 5,000 km.<br>\n",
    "- Factory B manufactures engines that last more than 5,000 km with 95% probability.<br>\n",
    "- 70% of the engines are from manufacturer A, and the rest are produced by manufacturer B.<br>"
   ]
  },
  {
   "cell_type": "code",
   "execution_count": 19,
   "id": "fd1cfe31",
   "metadata": {},
   "outputs": [
    {
     "name": "stdout",
     "output_type": "stream",
     "text": [
      "0.978\n"
     ]
    }
   ],
   "source": [
    "# What is the chance that an engine will last more than 5,000 km?\n",
    "# Needed probabilities\n",
    "P_A = 0.7\n",
    "P_last5000_g_A = 0.99\n",
    "P_B = 0.3\n",
    "P_last5000_g_B = 0.95\n",
    "\n",
    "# Total probability calculation\n",
    "P_last_5000 = P_A * P_last5000_g_A + P_B * P_last5000_g_B\n",
    "\n",
    "print(P_last_5000)"
   ]
  },
  {
   "cell_type": "markdown",
   "id": "8e2d81ad",
   "metadata": {},
   "source": [
    "## 10. Poisson Distribution"
   ]
  },
  {
   "cell_type": "markdown",
   "id": "8d586418",
   "metadata": {},
   "source": [
    "In statistics, a Poisson distribution is a probability distribution that is used to show how many times an event is likely to occur over a specified period. Poisson distributions are often used to understand independent events that occur at a constant rate within a given interval of time."
   ]
  },
  {
   "cell_type": "markdown",
   "id": "e3f80d31",
   "metadata": {},
   "source": [
    "### Tracking lead responses\n",
    "Your company uses sales software to keep track of new sales leads. It organizes them into a queue so that anyone can follow up on one when they have a bit of free time. Since the number of lead responses is a countable outcome over a period of time, this scenario corresponds to a Poisson distribution. On average, Amir responds to 4 leads each day."
   ]
  },
  {
   "cell_type": "code",
   "execution_count": 20,
   "id": "a194bcae",
   "metadata": {},
   "outputs": [
    {
     "name": "stdout",
     "output_type": "stream",
     "text": [
      "0.1562934518505317\n"
     ]
    }
   ],
   "source": [
    "# Import poisson from scipy.stats\n",
    "from scipy.stats import poisson\n",
    "\n",
    "# Probability of 5 responses\n",
    "prob_5 = poisson.pmf(5, 4)\n",
    "\n",
    "print(prob_5)"
   ]
  },
  {
   "cell_type": "code",
   "execution_count": 21,
   "id": "89062ec2",
   "metadata": {},
   "outputs": [
    {
     "name": "stdout",
     "output_type": "stream",
     "text": [
      "0.17140068409793663\n"
     ]
    }
   ],
   "source": [
    "# Amir's coworker responds to an average of 5.5 leads per day. What is the probability that she answers 5 leads in a day?\n",
    "# Import poisson from scipy.stats\n",
    "from scipy.stats import poisson\n",
    "\n",
    "# Probability of 5 responses\n",
    "prob_coworker = poisson.pmf(5, 5.5)\n",
    "\n",
    "print(prob_coworker)"
   ]
  },
  {
   "cell_type": "code",
   "execution_count": 22,
   "id": "81cef80b",
   "metadata": {},
   "outputs": [
    {
     "name": "stdout",
     "output_type": "stream",
     "text": [
      "0.23810330555354436\n"
     ]
    }
   ],
   "source": [
    "# What's the probability that Amir responds to 2 or fewer leads in a day?\n",
    "# Import poisson from scipy.stats\n",
    "from scipy.stats import poisson\n",
    "\n",
    "# Probability of 2 or fewer responses\n",
    "prob_2_or_less = poisson.cdf(2, 4)\n",
    "\n",
    "print(prob_2_or_less)"
   ]
  },
  {
   "cell_type": "code",
   "execution_count": 23,
   "id": "13a5220f",
   "metadata": {},
   "outputs": [
    {
     "name": "stdout",
     "output_type": "stream",
     "text": [
      "0.0028397661205137315\n"
     ]
    }
   ],
   "source": [
    "# What's the probability that Amir responds to more than 10 leads in a day?\n",
    "# Import poisson from scipy.stats\n",
    "from scipy.stats import poisson\n",
    "\n",
    "# Probability of > 10 responses\n",
    "prob_over_10 = 1 - poisson.cdf(10, 4)\n",
    "\n",
    "print(prob_over_10)"
   ]
  },
  {
   "cell_type": "code",
   "execution_count": null,
   "id": "6c715c54",
   "metadata": {},
   "outputs": [],
   "source": []
  }
 ],
 "metadata": {
  "kernelspec": {
   "display_name": "Python 3 (ipykernel)",
   "language": "python",
   "name": "python3"
  },
  "language_info": {
   "codemirror_mode": {
    "name": "ipython",
    "version": 3
   },
   "file_extension": ".py",
   "mimetype": "text/x-python",
   "name": "python",
   "nbconvert_exporter": "python",
   "pygments_lexer": "ipython3",
   "version": "3.9.7"
  }
 },
 "nbformat": 4,
 "nbformat_minor": 5
}
