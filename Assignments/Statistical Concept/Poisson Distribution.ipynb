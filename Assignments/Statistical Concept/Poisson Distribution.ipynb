{
 "cells": [
  {
   "cell_type": "markdown",
   "id": "970448c2",
   "metadata": {},
   "source": [
    "# Poisson Distribution"
   ]
  },
  {
   "cell_type": "markdown",
   "id": "97f50952",
   "metadata": {},
   "source": [
    "In statistics, a Poisson distribution is a probability distribution that is used to show how many times an event is likely to occur over a specified period. Poisson distributions are often used to understand independent events that occur at a constant rate within a given interval of time."
   ]
  },
  {
   "cell_type": "markdown",
   "id": "7cfb6d62",
   "metadata": {},
   "source": [
    "### Tracking lead responses\n",
    "Your company uses sales software to keep track of new sales leads. It organizes them into a queue so that anyone can follow up on one when they have a bit of free time. Since the number of lead responses is a countable outcome over a period of time, this scenario corresponds to a Poisson distribution. On average, Amir responds to 4 leads each day."
   ]
  },
  {
   "cell_type": "code",
   "execution_count": 1,
   "id": "8033a96d",
   "metadata": {},
   "outputs": [
    {
     "name": "stdout",
     "output_type": "stream",
     "text": [
      "0.1562934518505317\n"
     ]
    }
   ],
   "source": [
    "# Import poisson from scipy.stats\n",
    "from scipy.stats import poisson\n",
    "\n",
    "# Probability of 5 responses\n",
    "prob_5 = poisson.pmf(5, 4)\n",
    "\n",
    "print(prob_5)"
   ]
  },
  {
   "cell_type": "code",
   "execution_count": 2,
   "id": "678a9d42",
   "metadata": {},
   "outputs": [
    {
     "name": "stdout",
     "output_type": "stream",
     "text": [
      "0.17140068409793663\n"
     ]
    }
   ],
   "source": [
    "# Amir's coworker responds to an average of 5.5 leads per day. What is the probability that she answers 5 leads in a day?\n",
    "# Import poisson from scipy.stats\n",
    "from scipy.stats import poisson\n",
    "\n",
    "# Probability of 5 responses\n",
    "prob_coworker = poisson.pmf(5, 5.5)\n",
    "\n",
    "print(prob_coworker)"
   ]
  },
  {
   "cell_type": "code",
   "execution_count": 3,
   "id": "ab6a13ee",
   "metadata": {},
   "outputs": [
    {
     "name": "stdout",
     "output_type": "stream",
     "text": [
      "0.23810330555354436\n"
     ]
    }
   ],
   "source": [
    "# What's the probability that Amir responds to 2 or fewer leads in a day?\n",
    "# Import poisson from scipy.stats\n",
    "from scipy.stats import poisson\n",
    "\n",
    "# Probability of 2 or fewer responses\n",
    "prob_2_or_less = poisson.cdf(2, 4)\n",
    "\n",
    "print(prob_2_or_less)"
   ]
  },
  {
   "cell_type": "code",
   "execution_count": 4,
   "id": "6781dd33",
   "metadata": {},
   "outputs": [
    {
     "name": "stdout",
     "output_type": "stream",
     "text": [
      "0.0028397661205137315\n"
     ]
    }
   ],
   "source": [
    "# What's the probability that Amir responds to more than 10 leads in a day?\n",
    "# Import poisson from scipy.stats\n",
    "from scipy.stats import poisson\n",
    "\n",
    "# Probability of > 10 responses\n",
    "prob_over_10 = 1 - poisson.cdf(10, 4)\n",
    "\n",
    "print(prob_over_10)"
   ]
  },
  {
   "cell_type": "code",
   "execution_count": null,
   "id": "02d05f6a",
   "metadata": {},
   "outputs": [],
   "source": []
  }
 ],
 "metadata": {
  "kernelspec": {
   "display_name": "Python 3 (ipykernel)",
   "language": "python",
   "name": "python3"
  },
  "language_info": {
   "codemirror_mode": {
    "name": "ipython",
    "version": 3
   },
   "file_extension": ".py",
   "mimetype": "text/x-python",
   "name": "python",
   "nbconvert_exporter": "python",
   "pygments_lexer": "ipython3",
   "version": "3.9.7"
  }
 },
 "nbformat": 4,
 "nbformat_minor": 5
}
