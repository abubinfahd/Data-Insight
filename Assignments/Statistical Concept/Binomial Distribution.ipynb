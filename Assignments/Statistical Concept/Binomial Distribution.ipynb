{
 "cells": [
  {
   "cell_type": "markdown",
   "id": "2f723406",
   "metadata": {},
   "source": [
    "# Binomial Distribution\n",
    "## Probability mass function(pmf) & Cumulative disribution function(cdf)"
   ]
  },
  {
   "cell_type": "markdown",
   "id": "8ff653b2",
   "metadata": {},
   "source": [
    "<b>binom.pmf()</b> calculates the probability of having exactly k heads out of n coin flips.<br>\n",
    "<b>binom.cdf()</b> calculates the probability of having k heads or less out of n coin flips.<br>\n",
    "<b>binom.sf()</b> calculates the probability of having more than k heads out of n coin flips.<br>\n",
    "Ref: Datacamp"
   ]
  },
  {
   "cell_type": "markdown",
   "id": "315dd02a",
   "metadata": {},
   "source": [
    "Consider a survey about employment that contains the question \"Are you employed?\" It is known that 65% of respondents will answer \"yes.\" Eight survey responses have been collected."
   ]
  },
  {
   "cell_type": "code",
   "execution_count": 1,
   "id": "7e8be7a2",
   "metadata": {},
   "outputs": [],
   "source": [
    "from scipy.stats import binom"
   ]
  },
  {
   "cell_type": "code",
   "execution_count": 2,
   "id": "d7c9bc02",
   "metadata": {},
   "outputs": [
    {
     "name": "stdout",
     "output_type": "stream",
     "text": [
      "0.2785857790625\n"
     ]
    }
   ],
   "source": [
    "# Calculate the probability of getting exactly 5 yes responses\n",
    "prob_five_yes = binom.pmf(k=5, n=8, p=0.65)\n",
    "print(prob_five_yes)"
   ]
  },
  {
   "cell_type": "code",
   "execution_count": 3,
   "id": "6d1d052f",
   "metadata": {},
   "outputs": [
    {
     "name": "stdout",
     "output_type": "stream",
     "text": [
      "0.8939090951171875\n"
     ]
    }
   ],
   "source": [
    "# Calculate the probability of getting 3 or less no responses\n",
    "prob_three_or_less_no = 1-binom.cdf(k=3, n=8, p=.65)\n",
    "print(prob_three_or_less_no)"
   ]
  },
  {
   "cell_type": "code",
   "execution_count": 4,
   "id": "a0a7740f",
   "metadata": {},
   "outputs": [
    {
     "name": "stdout",
     "output_type": "stream",
     "text": [
      "0.8939090951171875\n"
     ]
    }
   ],
   "source": [
    "# Calculate the probability of getting more than 3 yes responses\n",
    "prob_more_than_three_yes = binom.sf(k=3, n=8, p=0.65)\n",
    "print(prob_more_than_three_yes)"
   ]
  },
  {
   "cell_type": "markdown",
   "id": "2013544a",
   "metadata": {},
   "source": [
    "Consider a town there are many crimes, including burglaries, but only 20% of them get solved. Last week, there were 9 burglaries. "
   ]
  },
  {
   "cell_type": "code",
   "execution_count": 5,
   "id": "51953f0e",
   "metadata": {},
   "outputs": [
    {
     "name": "stdout",
     "output_type": "stream",
     "text": [
      "0.066060288\n"
     ]
    }
   ],
   "source": [
    "# What is the probability of solving 4 burglaries?\n",
    "four_solved = binom.pmf(k=4, n=9, p=0.2)\n",
    "print(four_solved)"
   ]
  },
  {
   "cell_type": "code",
   "execution_count": 6,
   "id": "e995076b",
   "metadata": {},
   "outputs": [
    {
     "name": "stdout",
     "output_type": "stream",
     "text": [
      "0.08564172800000006\n"
     ]
    }
   ],
   "source": [
    "# What is the probability of solving more than 3 burglaries?\n",
    "more_than_three_solved = binom.sf(k=3, n=9, p=0.2)\n",
    "print(more_than_three_solved)"
   ]
  },
  {
   "cell_type": "code",
   "execution_count": 7,
   "id": "c88f56cb",
   "metadata": {},
   "outputs": [
    {
     "name": "stdout",
     "output_type": "stream",
     "text": [
      "0.4781506560000002\n"
     ]
    }
   ],
   "source": [
    "# What is the probability of solving 2 or 3 burglaries?\n",
    "two_or_three_solved = binom.pmf(k=2, n=9, p=0.2) + binom.pmf(k=3, n=9, p=0.2)\n",
    "print(two_or_three_solved)"
   ]
  },
  {
   "cell_type": "code",
   "execution_count": 8,
   "id": "b2909acc",
   "metadata": {},
   "outputs": [
    {
     "name": "stdout",
     "output_type": "stream",
     "text": [
      "0.4362265599999997\n"
     ]
    }
   ],
   "source": [
    "# What is the probability of solving 1 or fewer or more than 7 burglaries?\n",
    "tail_probabilities = binom.cdf(k=1, n=9, p=0.2) + binom.sf(k=7, n=9, p=0.2)\n",
    "print(tail_probabilities)"
   ]
  }
 ],
 "metadata": {
  "kernelspec": {
   "display_name": "Python 3 (ipykernel)",
   "language": "python",
   "name": "python3"
  },
  "language_info": {
   "codemirror_mode": {
    "name": "ipython",
    "version": 3
   },
   "file_extension": ".py",
   "mimetype": "text/x-python",
   "name": "python",
   "nbconvert_exporter": "python",
   "pygments_lexer": "ipython3",
   "version": "3.9.7"
  }
 },
 "nbformat": 4,
 "nbformat_minor": 5
}
