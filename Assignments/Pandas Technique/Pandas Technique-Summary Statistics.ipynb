{
 "cells": [
  {
   "cell_type": "markdown",
   "id": "6d5130af",
   "metadata": {},
   "source": [
    "# Summary Statistics\n",
    "Summary statistics is a part of descriptive statistics that summarizes and provides the gist of information about the sample data. Statisticians commonly try to describe and characterize the observations by finding: a measure of location, or central tendency, such as the arithmetic mean."
   ]
  },
  {
   "cell_type": "code",
   "execution_count": 1,
   "id": "a3227b29",
   "metadata": {},
   "outputs": [],
   "source": [
    "import pandas as pd\n",
    "import numpy as np"
   ]
  },
  {
   "cell_type": "code",
   "execution_count": 3,
   "id": "4629472d",
   "metadata": {},
   "outputs": [
    {
     "data": {
      "text/html": [
       "<div>\n",
       "<style scoped>\n",
       "    .dataframe tbody tr th:only-of-type {\n",
       "        vertical-align: middle;\n",
       "    }\n",
       "\n",
       "    .dataframe tbody tr th {\n",
       "        vertical-align: top;\n",
       "    }\n",
       "\n",
       "    .dataframe thead th {\n",
       "        text-align: right;\n",
       "    }\n",
       "</style>\n",
       "<table border=\"1\" class=\"dataframe\">\n",
       "  <thead>\n",
       "    <tr style=\"text-align: right;\">\n",
       "      <th></th>\n",
       "      <th>Name</th>\n",
       "      <th>Breed</th>\n",
       "      <th>Color</th>\n",
       "      <th>Height(cm)</th>\n",
       "      <th>Weight(kg)</th>\n",
       "      <th>Date of Birth</th>\n",
       "    </tr>\n",
       "  </thead>\n",
       "  <tbody>\n",
       "    <tr>\n",
       "      <th>0</th>\n",
       "      <td>Bella</td>\n",
       "      <td>Labrador</td>\n",
       "      <td>Brown</td>\n",
       "      <td>56</td>\n",
       "      <td>25</td>\n",
       "      <td>2013-07-01</td>\n",
       "    </tr>\n",
       "    <tr>\n",
       "      <th>1</th>\n",
       "      <td>Charlie</td>\n",
       "      <td>Poddle</td>\n",
       "      <td>Black</td>\n",
       "      <td>43</td>\n",
       "      <td>23</td>\n",
       "      <td>2016-09-16</td>\n",
       "    </tr>\n",
       "    <tr>\n",
       "      <th>2</th>\n",
       "      <td>Lucy</td>\n",
       "      <td>Chow Chow</td>\n",
       "      <td>Brown</td>\n",
       "      <td>46</td>\n",
       "      <td>22</td>\n",
       "      <td>2014-08-25</td>\n",
       "    </tr>\n",
       "    <tr>\n",
       "      <th>3</th>\n",
       "      <td>Copper</td>\n",
       "      <td>Schnauzer</td>\n",
       "      <td>Gray</td>\n",
       "      <td>49</td>\n",
       "      <td>17</td>\n",
       "      <td>2011-12-11</td>\n",
       "    </tr>\n",
       "    <tr>\n",
       "      <th>4</th>\n",
       "      <td>Max</td>\n",
       "      <td>Labrador</td>\n",
       "      <td>Black</td>\n",
       "      <td>59</td>\n",
       "      <td>29</td>\n",
       "      <td>2017-01-20</td>\n",
       "    </tr>\n",
       "    <tr>\n",
       "      <th>5</th>\n",
       "      <td>Stella</td>\n",
       "      <td>Chihuahua</td>\n",
       "      <td>Tan</td>\n",
       "      <td>18</td>\n",
       "      <td>2</td>\n",
       "      <td>2015-04-20</td>\n",
       "    </tr>\n",
       "    <tr>\n",
       "      <th>6</th>\n",
       "      <td>Bernle</td>\n",
       "      <td>St. Bernard</td>\n",
       "      <td>White</td>\n",
       "      <td>77</td>\n",
       "      <td>74</td>\n",
       "      <td>2018-02-27</td>\n",
       "    </tr>\n",
       "  </tbody>\n",
       "</table>\n",
       "</div>"
      ],
      "text/plain": [
       "      Name        Breed  Color  Height(cm)  Weight(kg) Date of Birth\n",
       "0    Bella     Labrador  Brown          56          25    2013-07-01\n",
       "1  Charlie       Poddle  Black          43          23    2016-09-16\n",
       "2     Lucy    Chow Chow  Brown          46          22    2014-08-25\n",
       "3   Copper    Schnauzer   Gray          49          17    2011-12-11\n",
       "4      Max     Labrador  Black          59          29    2017-01-20\n",
       "5   Stella    Chihuahua    Tan          18           2    2015-04-20\n",
       "6   Bernle  St. Bernard  White          77          74    2018-02-27"
      ]
     },
     "execution_count": 3,
     "metadata": {},
     "output_type": "execute_result"
    }
   ],
   "source": [
    "# read dataset\n",
    "df = pd.read_csv('Srt_dta.csv')\n",
    "df"
   ]
  },
  {
   "cell_type": "markdown",
   "id": "14cece59",
   "metadata": {},
   "source": [
    "# Summarizing numerical data"
   ]
  },
  {
   "cell_type": "code",
   "execution_count": 4,
   "id": "ce526153",
   "metadata": {},
   "outputs": [
    {
     "data": {
      "text/plain": [
       "49.714285714285715"
      ]
     },
     "execution_count": 4,
     "metadata": {},
     "output_type": "execute_result"
    }
   ],
   "source": [
    "df['Height(cm)'].mean()"
   ]
  },
  {
   "cell_type": "markdown",
   "id": "6166ab0c",
   "metadata": {},
   "source": [
    "# Summarizing dates"
   ]
  },
  {
   "cell_type": "code",
   "execution_count": 5,
   "id": "29166978",
   "metadata": {},
   "outputs": [
    {
     "data": {
      "text/plain": [
       "'2011-12-11'"
      ]
     },
     "execution_count": 5,
     "metadata": {},
     "output_type": "execute_result"
    }
   ],
   "source": [
    "df['Date of Birth'].min()"
   ]
  },
  {
   "cell_type": "code",
   "execution_count": 6,
   "id": "aa17d8d1",
   "metadata": {},
   "outputs": [
    {
     "data": {
      "text/plain": [
       "'2018-02-27'"
      ]
     },
     "execution_count": 6,
     "metadata": {},
     "output_type": "execute_result"
    }
   ],
   "source": [
    "df['Date of Birth'].max()"
   ]
  },
  {
   "cell_type": "markdown",
   "id": "73f999c2",
   "metadata": {},
   "source": [
    "# The .agg() method\n",
    "agg() is used to pass a function or list of function to be applied on a series or even each element of series separately. In case of list of function, multiple results are returned by agg() method."
   ]
  },
  {
   "cell_type": "code",
   "execution_count": 9,
   "id": "02ec1a2e",
   "metadata": {},
   "outputs": [
    {
     "data": {
      "text/plain": [
       "21.0"
      ]
     },
     "execution_count": 9,
     "metadata": {},
     "output_type": "execute_result"
    }
   ],
   "source": [
    "def pct30(column):\n",
    "    return column.quantile(0.3)\n",
    "\n",
    "df['Weight(kg)'].agg(pct30)"
   ]
  },
  {
   "cell_type": "markdown",
   "id": "554c3875",
   "metadata": {},
   "source": [
    "# Summaries on multiple columns"
   ]
  },
  {
   "cell_type": "code",
   "execution_count": 10,
   "id": "866a433b",
   "metadata": {},
   "outputs": [
    {
     "data": {
      "text/plain": [
       "Height(cm)    45.4\n",
       "Weight(kg)    21.0\n",
       "dtype: float64"
      ]
     },
     "execution_count": 10,
     "metadata": {},
     "output_type": "execute_result"
    }
   ],
   "source": [
    "df[['Height(cm)', 'Weight(kg)']].agg(pct30)"
   ]
  },
  {
   "cell_type": "markdown",
   "id": "3890537c",
   "metadata": {},
   "source": [
    "# Multiple summaries"
   ]
  },
  {
   "cell_type": "code",
   "execution_count": 12,
   "id": "be517449",
   "metadata": {},
   "outputs": [
    {
     "data": {
      "text/plain": [
       "pct30    45.4\n",
       "pct40    47.2\n",
       "Name: Height(cm), dtype: float64"
      ]
     },
     "execution_count": 12,
     "metadata": {},
     "output_type": "execute_result"
    }
   ],
   "source": [
    "def pct40(column):\n",
    "    return column.quantile(0.4)\n",
    "\n",
    "df['Height(cm)'].agg([pct30, pct40])"
   ]
  },
  {
   "cell_type": "markdown",
   "id": "234faada",
   "metadata": {},
   "source": [
    "# Cumulative sum"
   ]
  },
  {
   "cell_type": "code",
   "execution_count": 14,
   "id": "1a6fd79e",
   "metadata": {},
   "outputs": [
    {
     "data": {
      "text/plain": [
       "0     25\n",
       "1     48\n",
       "2     70\n",
       "3     87\n",
       "4    116\n",
       "5    118\n",
       "6    192\n",
       "Name: Weight(kg), dtype: int64"
      ]
     },
     "execution_count": 14,
     "metadata": {},
     "output_type": "execute_result"
    }
   ],
   "source": [
    "df['Weight(kg)'].cumsum()\n",
    "# another method\n",
    "# .cummax()\n",
    "# .cumprod()\n",
    "# .cummin()"
   ]
  }
 ],
 "metadata": {
  "kernelspec": {
   "display_name": "Python 3 (ipykernel)",
   "language": "python",
   "name": "python3"
  },
  "language_info": {
   "codemirror_mode": {
    "name": "ipython",
    "version": 3
   },
   "file_extension": ".py",
   "mimetype": "text/x-python",
   "name": "python",
   "nbconvert_exporter": "python",
   "pygments_lexer": "ipython3",
   "version": "3.9.5"
  }
 },
 "nbformat": 4,
 "nbformat_minor": 5
}
